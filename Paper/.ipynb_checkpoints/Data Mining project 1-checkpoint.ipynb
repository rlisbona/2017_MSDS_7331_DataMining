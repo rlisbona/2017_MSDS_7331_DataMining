{
 "cells": [
  {
   "cell_type": "markdown",
   "metadata": {},
   "source": [
    "Allows multiple variables to display without using a print statement\n",
    "https://www.dataquest.io/blog/jupyter-notebook-tips-tricks-shortcuts/"
   ]
  },
  {
   "cell_type": "code",
   "execution_count": null,
   "metadata": {
    "collapsed": true
   },
   "outputs": [],
   "source": [
    "from IPython.core.interactiveshell import InteractiveShell\n",
    "InteractiveShell.ast_node_interactivity = \"all\""
   ]
  },
  {
   "cell_type": "markdown",
   "metadata": {},
   "source": [
    "This lets the notebook user a wider part of your screen."
   ]
  },
  {
   "cell_type": "code",
   "execution_count": null,
   "metadata": {
    "collapsed": false
   },
   "outputs": [],
   "source": [
    "from IPython.core.display import display, HTML\n",
    "display(HTML(\"<style>.container { width:75% !important; }</style>\"))"
   ]
  },
  {
   "cell_type": "code",
   "execution_count": 1,
   "metadata": {
    "collapsed": false,
    "scrolled": true
   },
   "outputs": [
    {
     "name": "stdout",
     "output_type": "stream",
     "text": [
      "Created  C:\\Users\\Randy\\Documents\\GitHub\\2017_MSDS_7331_DataMining\\Paper\\Reference Files\n",
      "Created  C:\\Users\\Randy\\Documents\\GitHub\\2017_MSDS_7331_DataMining\\Paper\\Census Files\n",
      "Downloading  Flag_Reference.xls\n",
      "Downloading  Footnote_Reference.xls\n",
      "Downloading  Mastdata.xls\n",
      "Downloading  Mastgroups.xls\n",
      "Downloading  Source.xls\n",
      "Downloading  Unit_Reference.xls\n",
      "Downloading  AFN.zip\n",
      "Extracting  AFN.zip\n",
      "Downloading  AGE.zip\n",
      "Extracting  AGE.zip\n",
      "Downloading  AGN.zip\n",
      "Extracting  AGN.zip\n",
      "Downloading  AGS.zip\n",
      "Extracting  AGS.zip\n",
      "Downloading  ANC.zip\n",
      "Extracting  ANC.zip\n",
      "Downloading  BNK.zip\n",
      "Extracting  BNK.zip\n",
      "Downloading  BPS.zip\n",
      "Extracting  BPS.zip\n",
      "Downloading  BZA.zip\n",
      "Extracting  BZA.zip\n",
      "Downloading  BZN.zip\n",
      "Extracting  BZN.zip\n",
      "Downloading  BZS.zip\n",
      "Extracting  BZS.zip\n",
      "Downloading  CLF.zip\n",
      "Extracting  CLF.zip\n",
      "Downloading  CRM.zip\n",
      "Extracting  CRM.zip\n",
      "Downloading  EAN.zip\n",
      "Extracting  EAN.zip\n",
      "Downloading  EAS.zip\n",
      "Extracting  EAS.zip\n",
      "Downloading  EDU.zip\n",
      "Extracting  EDU.zip\n",
      "Downloading  ELE.zip\n",
      "Extracting  ELE.zip\n",
      "Downloading  EMN.zip\n",
      "Extracting  EMN.zip\n",
      "Downloading  EMS.zip\n",
      "Extracting  EMS.zip\n",
      "Downloading  FED.zip\n",
      "Extracting  FED.zip\n",
      "Downloading  GAN.zip\n",
      "Extracting  GAN.zip\n",
      "Downloading  GEE.zip\n",
      "Extracting  GEE.zip\n",
      "Downloading  GEN.zip\n",
      "Extracting  GEN.zip\n",
      "Downloading  HEA.zip\n",
      "Extracting  HEA.zip\n",
      "Downloading  HIS.zip\n",
      "Extracting  HIS.zip\n",
      "Downloading  HSD.zip\n",
      "Extracting  HSD.zip\n",
      "Downloading  HSG.zip\n",
      "Extracting  HSG.zip\n",
      "Downloading  INC.zip\n",
      "Extracting  INC.zip\n",
      "Downloading  IPE.zip\n",
      "Extracting  IPE.zip\n",
      "Downloading  IRS.zip\n",
      "Extracting  IRS.zip\n",
      "Downloading  LFE.zip\n",
      "Extracting  LFE.zip\n",
      "Downloading  LND.zip\n",
      "Extracting  LND.zip\n",
      "Downloading  LOG.zip\n",
      "Extracting  LOG.zip\n",
      "Downloading  MAN.zip\n",
      "Extracting  MAN.zip\n",
      "Downloading  MAS.zip\n",
      "Extracting  MAS.zip\n",
      "Downloading  NES.zip\n",
      "Extracting  NES.zip\n",
      "Downloading  PEN.zip\n",
      "Extracting  PEN.zip\n",
      "Downloading  PIN.zip\n",
      "Extracting  PIN.zip\n",
      "Downloading  POP.zip\n",
      "Extracting  POP.zip\n",
      "Downloading  PPQ.zip\n",
      "Extracting  PPQ.zip\n",
      "Downloading  PST.zip\n",
      "Extracting  PST.zip\n",
      "Downloading  PVY.zip\n",
      "Extracting  PVY.zip\n",
      "Downloading  RHI.zip\n",
      "Extracting  RHI.zip\n",
      "Downloading  RTN.zip\n",
      "Extracting  RTN.zip\n",
      "Downloading  RTS.zip\n",
      "Extracting  RTS.zip\n",
      "Downloading  SBO.zip\n",
      "Extracting  SBO.zip\n",
      "Downloading  SEX.zip\n",
      "Extracting  SEX.zip\n",
      "Downloading  SPR.zip\n",
      "Extracting  SPR.zip\n",
      "Downloading  VET.zip\n",
      "Extracting  VET.zip\n",
      "Downloading  VST.zip\n",
      "Extracting  VST.zip\n",
      "Downloading  WAT.zip\n",
      "Extracting  WAT.zip\n",
      "Downloading  WTN.zip\n",
      "Extracting  WTN.zip\n",
      "**Download and extraction complete.\n",
      "If their where no other messages, files already present.\n"
     ]
    }
   ],
   "source": [
    "#Downloads and unpack US Census County Data from census.gov\n",
    "import downloadUSACounties\n"
   ]
  },
  {
   "cell_type": "code",
   "execution_count": 2,
   "metadata": {
    "collapsed": false
   },
   "outputs": [
    {
     "name": "stdout",
     "output_type": "stream",
     "text": [
      "Index(['Item_Id', 'Item_Description', 'Unit_Indicator', 'Decimal_Indicator',\n",
      "       'US_Total', 'Source1', 'Source11'],\n",
      "      dtype='object')\n",
      "**Database already exists and is loaded.\n"
     ]
    }
   ],
   "source": [
    "#Creates Mongo database 'Census' and collection 'Mastdata' used to make Census data human-readable\n",
    "#added this line to see if I could make a branch work\n",
    "import loadMastdata"
   ]
  },
  {
   "cell_type": "markdown",
   "metadata": {},
   "source": [
    "## Business Understanding (10 points)\n",
    "#Describe the purpose of the data set you selected (i.e., why was this data collected in the ﬁrst place?). \n",
    "#Describe how you would deﬁne and measure the outcomes from the dataset. \n",
    "#That is, why is this data important and how do you know if you have mined useful knowledge from the dataset? \n",
    "#How would you measure the effectiveness of a good prediction algorithm? Be speciﬁc. "
   ]
  },
  {
   "cell_type": "markdown",
   "metadata": {
    "collapsed": true
   },
   "source": [
    "| Variable | Type | Definition |\n",
    "|:--------:|:----:|:----------:|\n",
    "| x | int | x coord |\n",
    "| y | int | y coord |\n"
   ]
  },
  {
   "cell_type": "markdown",
   "metadata": {},
   "source": [
    "## Data Understanding (80 points)"
   ]
  },
  {
   "cell_type": "markdown",
   "metadata": {},
   "source": [
    "#### 10 points - Describe data, outcome metrics,\n",
    "#1)Describe the purpose of the data set, why was the data collected.  Define outcome measures, what is important, \n",
    "#how do you know if you achieved the objective.  How to measure the effectiveness of a good prediction algorythm."
   ]
  },
  {
   "cell_type": "code",
   "execution_count": null,
   "metadata": {
    "collapsed": true
   },
   "outputs": [],
   "source": [
    "#### 15 points - Data Quality, Explain data cleansing steps, give justifications"
   ]
  },
  {
   "cell_type": "code",
   "execution_count": null,
   "metadata": {
    "collapsed": true
   },
   "outputs": [],
   "source": []
  },
  {
   "cell_type": "code",
   "execution_count": null,
   "metadata": {
    "collapsed": true
   },
   "outputs": [],
   "source": [
    "#### 10 points - Visualize appropriate statistics on a subset of the data, explain why the statistics are meaningful"
   ]
  },
  {
   "cell_type": "code",
   "execution_count": null,
   "metadata": {
    "collapsed": true
   },
   "outputs": [],
   "source": []
  },
  {
   "cell_type": "code",
   "execution_count": null,
   "metadata": {
    "collapsed": true
   },
   "outputs": [],
   "source": [
    "#### 15 points - Visualize 5 or more interesting attributes, interpret implications for each visualization, explain for each attribute, why the visualization is appropriate."
   ]
  },
  {
   "cell_type": "code",
   "execution_count": null,
   "metadata": {
    "collapsed": true
   },
   "outputs": [],
   "source": []
  },
  {
   "cell_type": "code",
   "execution_count": null,
   "metadata": {
    "collapsed": true
   },
   "outputs": [],
   "source": [
    "#### 15 points - Visualize relationships between attributes, ie scatter plots, correlation, cross=tabulation, groupwise avgs, etc.  Explain interesting relationships"
   ]
  },
  {
   "cell_type": "code",
   "execution_count": null,
   "metadata": {
    "collapsed": true
   },
   "outputs": [],
   "source": []
  },
  {
   "cell_type": "code",
   "execution_count": null,
   "metadata": {
    "collapsed": true
   },
   "outputs": [],
   "source": [
    "#### 10 points - Identify and explain interesting relationships between features and the class you are trying to predict"
   ]
  },
  {
   "cell_type": "code",
   "execution_count": null,
   "metadata": {
    "collapsed": true
   },
   "outputs": [],
   "source": []
  },
  {
   "cell_type": "code",
   "execution_count": null,
   "metadata": {
    "collapsed": true
   },
   "outputs": [],
   "source": [
    "#### 5 points - Are there other features that could be added to the data or created from existing features, explain."
   ]
  },
  {
   "cell_type": "code",
   "execution_count": null,
   "metadata": {
    "collapsed": true
   },
   "outputs": [],
   "source": []
  },
  {
   "cell_type": "markdown",
   "metadata": {},
   "source": [
    "## Exceptional Work (10 points)"
   ]
  },
  {
   "cell_type": "code",
   "execution_count": null,
   "metadata": {
    "collapsed": true
   },
   "outputs": [],
   "source": [
    "#### Free reign on additional analysis (since there are four of us we better do this!)\n",
    "#### Dimensional reduction, image processing, etc."
   ]
  },
  {
   "cell_type": "code",
   "execution_count": null,
   "metadata": {
    "collapsed": true
   },
   "outputs": [],
   "source": []
  }
 ],
 "metadata": {
  "anaconda-cloud": {},
  "kernelspec": {
   "display_name": "Python [default]",
   "language": "python",
   "name": "python3"
  },
  "language_info": {
   "codemirror_mode": {
    "name": "ipython",
    "version": 3
   },
   "file_extension": ".py",
   "mimetype": "text/x-python",
   "name": "python",
   "nbconvert_exporter": "python",
   "pygments_lexer": "ipython3",
   "version": "3.5.2"
  }
 },
 "nbformat": 4,
 "nbformat_minor": 2
}
