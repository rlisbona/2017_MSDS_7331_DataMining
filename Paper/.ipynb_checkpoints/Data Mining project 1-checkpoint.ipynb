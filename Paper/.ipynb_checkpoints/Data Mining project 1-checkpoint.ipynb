{
 "cells": [
  {
   "cell_type": "markdown",
   "metadata": {},
   "source": [
    "Allows multiple variables to display without using a print statement\n",
    "https://www.dataquest.io/blog/jupyter-notebook-tips-tricks-shortcuts/"
   ]
  },
  {
   "cell_type": "code",
   "execution_count": null,
   "metadata": {
    "collapsed": true
   },
   "outputs": [],
   "source": [
    "from IPython.core.interactiveshell import InteractiveShell\n",
    "InteractiveShell.ast_node_interactivity = \"all\""
   ]
  },
  {
   "cell_type": "markdown",
   "metadata": {},
   "source": [
    "This lets the notebook user a wider part of your screen."
   ]
  },
  {
   "cell_type": "code",
   "execution_count": 26,
   "metadata": {
    "collapsed": false
   },
   "outputs": [
    {
     "data": {
      "text/html": [
       "<style>.container { width:75% !important; }</style>"
      ],
      "text/plain": [
       "<IPython.core.display.HTML object>"
      ]
     },
     "metadata": {},
     "output_type": "display_data"
    }
   ],
   "source": [
    "from IPython.core.display import display, HTML\n",
    "display(HTML(\"<style>.container { width:75% !important; }</style>\"))"
   ]
  },
  {
   "cell_type": "code",
   "execution_count": 1,
   "metadata": {
    "collapsed": false,
    "scrolled": true
   },
   "outputs": [
    {
     "name": "stdout",
     "output_type": "stream",
     "text": [
      "**Download and extraction complete.\n",
      "If their where no other messages, files already present.\n"
     ]
    }
   ],
   "source": [
    "#Downloads and unpack US Census County Data from census.gov\n",
    "import downloadUSACounties\n"
   ]
  },
  {
   "cell_type": "code",
   "execution_count": 2,
   "metadata": {
    "collapsed": false
   },
   "outputs": [
    {
     "name": "stdout",
     "output_type": "stream",
     "text": [
      "Index(['Item_Id', 'Item_Description', 'Unit_Indicator', 'Decimal_Indicator',\n",
      "       'US_Total', 'Source1', 'Source11'],\n",
      "      dtype='object')\n",
      "**Database already exists and is loaded.\n"
     ]
    }
   ],
   "source": [
    "#Creates Mongo database 'Census' and collection 'Mastdata' used to make Census data human-readable\n",
    "#added this line to see if I could make a branch work\n",
    "import loadMastdata"
   ]
  },
  {
   "cell_type": "code",
   "execution_count": 28,
   "metadata": {
    "collapsed": false
   },
   "outputs": [
    {
     "name": "stdout",
     "output_type": "stream",
     "text": [
      "Proj - C:\\Users\\Randy\\Documents\\GitHub\\2017_MSDS_7331_DataMining\n",
      "C:\\Users\\Randy\\Documents\\GitHub\\2017_MSDS_7331_DataMining\\Data\n"
     ]
    },
    {
     "data": {
      "text/plain": [
       "['2017_QHP_Landscape_Individual_Market_Dental.csv']"
      ]
     },
     "execution_count": 28,
     "metadata": {},
     "output_type": "execute_result"
    }
   ],
   "source": [
    "#Get path to Data directory with downloaded .csv files\n",
    "import os\n",
    "jupyterDir = os.path.realpath('../')\n",
    "print('Proj -', jupyterDir)\n",
    "csvDir = os.path.join(jupyterDir,'Data')\n",
    "print(csvDir)\n",
    "os.listdir(csvDir)"
   ]
  },
  {
   "cell_type": "code",
   "execution_count": 35,
   "metadata": {
    "collapsed": false
   },
   "outputs": [
    {
     "name": "stdout",
     "output_type": "stream",
     "text": [
      "C:\\Users\\Randy\\Documents\\GitHub\\2017_MSDS_7331_DataMining\\Data\\2017_QHP_Landscape_Individual_Market_Dental.csv\n"
     ]
    },
    {
     "name": "stderr",
     "output_type": "stream",
     "text": [
      "C:\\Program Files\\Anaconda3\\lib\\site-packages\\IPython\\core\\interactiveshell.py:2717: DtypeWarning: Columns (22) have mixed types. Specify dtype option on import or set low_memory=False.\n",
      "  interactivity=interactivity, compiler=compiler, result=result)\n"
     ]
    },
    {
     "data": {
      "text/html": [
       "<div>\n",
       "<table border=\"1\" class=\"dataframe\">\n",
       "  <thead>\n",
       "    <tr style=\"text-align: right;\">\n",
       "      <th></th>\n",
       "      <th>State Code</th>\n",
       "      <th>FIPS County Code</th>\n",
       "      <th>County Name</th>\n",
       "      <th>Metal Level</th>\n",
       "      <th>Issuer Name</th>\n",
       "      <th>HIOS Issuer ID</th>\n",
       "      <th>Plan ID (Standard Component)</th>\n",
       "      <th>Plan Marketing Name</th>\n",
       "      <th>Plan Type</th>\n",
       "      <th>Rating Area</th>\n",
       "      <th>...</th>\n",
       "      <th>Dental Maximum Out of Pocket - Family - Standard</th>\n",
       "      <th>Dental Maximum Out of Pocket - Family (Per Person) - Standard</th>\n",
       "      <th>Routine Dental Services - Adult</th>\n",
       "      <th>Basic Dental Care - Adult</th>\n",
       "      <th>Major Dental Care - Adult</th>\n",
       "      <th>Orthodontia - Adult</th>\n",
       "      <th>Dental Check-Up for Children</th>\n",
       "      <th>Basic Dental Care - Child</th>\n",
       "      <th>Major Dental Care - Child</th>\n",
       "      <th>Orthodontia - Child</th>\n",
       "    </tr>\n",
       "  </thead>\n",
       "  <tbody>\n",
       "    <tr>\n",
       "      <th>0</th>\n",
       "      <td>AK</td>\n",
       "      <td>02013</td>\n",
       "      <td>Aleutians East</td>\n",
       "      <td>Low</td>\n",
       "      <td>Oregon Dental Service</td>\n",
       "      <td>21989</td>\n",
       "      <td>21989AK0030001</td>\n",
       "      <td>Delta Dental Premier Plan</td>\n",
       "      <td>Indemnity</td>\n",
       "      <td>Rating Area 2</td>\n",
       "      <td>...</td>\n",
       "      <td>$700</td>\n",
       "      <td>$350</td>\n",
       "      <td>20%</td>\n",
       "      <td>35%</td>\n",
       "      <td>50%</td>\n",
       "      <td>Not Covered</td>\n",
       "      <td>20%</td>\n",
       "      <td>35%</td>\n",
       "      <td>50%</td>\n",
       "      <td>50%</td>\n",
       "    </tr>\n",
       "    <tr>\n",
       "      <th>1</th>\n",
       "      <td>AK</td>\n",
       "      <td>02013</td>\n",
       "      <td>Aleutians East</td>\n",
       "      <td>High</td>\n",
       "      <td>BEST Life and Health Insurance Company</td>\n",
       "      <td>74819</td>\n",
       "      <td>74819AK0020003</td>\n",
       "      <td>BESTOne Advantage Gold</td>\n",
       "      <td>PPO</td>\n",
       "      <td>Rating Area 2</td>\n",
       "      <td>...</td>\n",
       "      <td>$700</td>\n",
       "      <td>$350</td>\n",
       "      <td>No Charge</td>\n",
       "      <td>10% Coinsurance after deductible</td>\n",
       "      <td>50% Coinsurance after deductible</td>\n",
       "      <td>Not Covered</td>\n",
       "      <td>No Charge</td>\n",
       "      <td>30.00% Coinsurance after deductible</td>\n",
       "      <td>50.00% Coinsurance after deductible</td>\n",
       "      <td>50.00%</td>\n",
       "    </tr>\n",
       "    <tr>\n",
       "      <th>2</th>\n",
       "      <td>AK</td>\n",
       "      <td>02013</td>\n",
       "      <td>Aleutians East</td>\n",
       "      <td>High</td>\n",
       "      <td>BEST Life and Health Insurance Company</td>\n",
       "      <td>74819</td>\n",
       "      <td>74819AK0020004</td>\n",
       "      <td>BESTOne Plus Gold</td>\n",
       "      <td>PPO</td>\n",
       "      <td>Rating Area 2</td>\n",
       "      <td>...</td>\n",
       "      <td>$700</td>\n",
       "      <td>$350</td>\n",
       "      <td>No Charge</td>\n",
       "      <td>30% Coinsurance after deductible</td>\n",
       "      <td>60% Coinsurance after deductible</td>\n",
       "      <td>Not Covered</td>\n",
       "      <td>No Charge</td>\n",
       "      <td>30.00% Coinsurance after deductible</td>\n",
       "      <td>50.00% Coinsurance after deductible</td>\n",
       "      <td>50.00%</td>\n",
       "    </tr>\n",
       "    <tr>\n",
       "      <th>3</th>\n",
       "      <td>AK</td>\n",
       "      <td>02013</td>\n",
       "      <td>Aleutians East</td>\n",
       "      <td>Low</td>\n",
       "      <td>BEST Life and Health Insurance Company</td>\n",
       "      <td>74819</td>\n",
       "      <td>74819AK0020005</td>\n",
       "      <td>BESTOne Plus Silver</td>\n",
       "      <td>PPO</td>\n",
       "      <td>Rating Area 2</td>\n",
       "      <td>...</td>\n",
       "      <td>$700</td>\n",
       "      <td>$350</td>\n",
       "      <td>No Charge</td>\n",
       "      <td>30% Coinsurance after deductible</td>\n",
       "      <td>60% Coinsurance after deductible</td>\n",
       "      <td>Not Covered</td>\n",
       "      <td>No Charge</td>\n",
       "      <td>30% Coinsurance after deductible</td>\n",
       "      <td>50% Coinsurance after deductible</td>\n",
       "      <td>50%</td>\n",
       "    </tr>\n",
       "    <tr>\n",
       "      <th>4</th>\n",
       "      <td>AK</td>\n",
       "      <td>02013</td>\n",
       "      <td>Aleutians East</td>\n",
       "      <td>Low</td>\n",
       "      <td>BEST Life and Health Insurance Company</td>\n",
       "      <td>74819</td>\n",
       "      <td>74819AK0020006</td>\n",
       "      <td>BESTOne Basic Silver</td>\n",
       "      <td>PPO</td>\n",
       "      <td>Rating Area 2</td>\n",
       "      <td>...</td>\n",
       "      <td>$700</td>\n",
       "      <td>$350</td>\n",
       "      <td>No Charge</td>\n",
       "      <td>50% Coinsurance after deductible</td>\n",
       "      <td>70% Coinsurance after deductible</td>\n",
       "      <td>Not Covered</td>\n",
       "      <td>No Charge</td>\n",
       "      <td>30% Coinsurance after deductible</td>\n",
       "      <td>50% Coinsurance after deductible</td>\n",
       "      <td>50%</td>\n",
       "    </tr>\n",
       "  </tbody>\n",
       "</table>\n",
       "<p>5 rows × 79 columns</p>\n",
       "</div>"
      ],
      "text/plain": [
       "  State Code FIPS County Code     County Name Metal Level  \\\n",
       "0         AK            02013  Aleutians East         Low   \n",
       "1         AK            02013  Aleutians East        High   \n",
       "2         AK            02013  Aleutians East        High   \n",
       "3         AK            02013  Aleutians East         Low   \n",
       "4         AK            02013  Aleutians East         Low   \n",
       "\n",
       "                              Issuer Name  HIOS Issuer ID  \\\n",
       "0                   Oregon Dental Service           21989   \n",
       "1  BEST Life and Health Insurance Company           74819   \n",
       "2  BEST Life and Health Insurance Company           74819   \n",
       "3  BEST Life and Health Insurance Company           74819   \n",
       "4  BEST Life and Health Insurance Company           74819   \n",
       "\n",
       "  Plan ID (Standard Component)        Plan Marketing Name  Plan Type  \\\n",
       "0               21989AK0030001  Delta Dental Premier Plan  Indemnity   \n",
       "1               74819AK0020003     BESTOne Advantage Gold        PPO   \n",
       "2               74819AK0020004          BESTOne Plus Gold        PPO   \n",
       "3               74819AK0020005        BESTOne Plus Silver        PPO   \n",
       "4               74819AK0020006       BESTOne Basic Silver        PPO   \n",
       "\n",
       "     Rating Area         ...          \\\n",
       "0  Rating Area 2         ...           \n",
       "1  Rating Area 2         ...           \n",
       "2  Rating Area 2         ...           \n",
       "3  Rating Area 2         ...           \n",
       "4  Rating Area 2         ...           \n",
       "\n",
       "  Dental Maximum Out of Pocket - Family - Standard  \\\n",
       "0                                             $700   \n",
       "1                                             $700   \n",
       "2                                             $700   \n",
       "3                                             $700   \n",
       "4                                             $700   \n",
       "\n",
       "  Dental Maximum Out of Pocket - Family (Per Person) - Standard  \\\n",
       "0                                               $350              \n",
       "1                                               $350              \n",
       "2                                               $350              \n",
       "3                                               $350              \n",
       "4                                               $350              \n",
       "\n",
       "  Routine Dental Services - Adult         Basic Dental Care - Adult  \\\n",
       "0                             20%                               35%   \n",
       "1                       No Charge  10% Coinsurance after deductible   \n",
       "2                       No Charge  30% Coinsurance after deductible   \n",
       "3                       No Charge  30% Coinsurance after deductible   \n",
       "4                       No Charge  50% Coinsurance after deductible   \n",
       "\n",
       "          Major Dental Care - Adult Orthodontia - Adult  \\\n",
       "0                               50%         Not Covered   \n",
       "1  50% Coinsurance after deductible         Not Covered   \n",
       "2  60% Coinsurance after deductible         Not Covered   \n",
       "3  60% Coinsurance after deductible         Not Covered   \n",
       "4  70% Coinsurance after deductible         Not Covered   \n",
       "\n",
       "  Dental Check-Up for Children            Basic Dental Care - Child  \\\n",
       "0                          20%                                  35%   \n",
       "1                    No Charge  30.00% Coinsurance after deductible   \n",
       "2                    No Charge  30.00% Coinsurance after deductible   \n",
       "3                    No Charge     30% Coinsurance after deductible   \n",
       "4                    No Charge     30% Coinsurance after deductible   \n",
       "\n",
       "             Major Dental Care - Child Orthodontia - Child  \n",
       "0                                  50%                 50%  \n",
       "1  50.00% Coinsurance after deductible              50.00%  \n",
       "2  50.00% Coinsurance after deductible              50.00%  \n",
       "3     50% Coinsurance after deductible                 50%  \n",
       "4     50% Coinsurance after deductible                 50%  \n",
       "\n",
       "[5 rows x 79 columns]"
      ]
     },
     "execution_count": 35,
     "metadata": {},
     "output_type": "execute_result"
    },
    {
     "data": {
      "text/html": [
       "<div>\n",
       "<table border=\"1\" class=\"dataframe\">\n",
       "  <thead>\n",
       "    <tr style=\"text-align: right;\">\n",
       "      <th></th>\n",
       "      <th>HIOS Issuer ID</th>\n",
       "      <th>Drug Formulary URL</th>\n",
       "      <th>Premium Rates</th>\n",
       "      <th>Standard On Exchange</th>\n",
       "    </tr>\n",
       "  </thead>\n",
       "  <tbody>\n",
       "    <tr>\n",
       "      <th>count</th>\n",
       "      <td>50439.000000</td>\n",
       "      <td>0.0</td>\n",
       "      <td>0.0</td>\n",
       "      <td>0.0</td>\n",
       "    </tr>\n",
       "    <tr>\n",
       "      <th>mean</th>\n",
       "      <td>52943.592002</td>\n",
       "      <td>NaN</td>\n",
       "      <td>NaN</td>\n",
       "      <td>NaN</td>\n",
       "    </tr>\n",
       "    <tr>\n",
       "      <th>std</th>\n",
       "      <td>25372.432395</td>\n",
       "      <td>NaN</td>\n",
       "      <td>NaN</td>\n",
       "      <td>NaN</td>\n",
       "    </tr>\n",
       "    <tr>\n",
       "      <th>min</th>\n",
       "      <td>10046.000000</td>\n",
       "      <td>NaN</td>\n",
       "      <td>NaN</td>\n",
       "      <td>NaN</td>\n",
       "    </tr>\n",
       "    <tr>\n",
       "      <th>25%</th>\n",
       "      <td>30115.000000</td>\n",
       "      <td>NaN</td>\n",
       "      <td>NaN</td>\n",
       "      <td>NaN</td>\n",
       "    </tr>\n",
       "    <tr>\n",
       "      <th>50%</th>\n",
       "      <td>50022.000000</td>\n",
       "      <td>NaN</td>\n",
       "      <td>NaN</td>\n",
       "      <td>NaN</td>\n",
       "    </tr>\n",
       "    <tr>\n",
       "      <th>75%</th>\n",
       "      <td>75293.000000</td>\n",
       "      <td>NaN</td>\n",
       "      <td>NaN</td>\n",
       "      <td>NaN</td>\n",
       "    </tr>\n",
       "    <tr>\n",
       "      <th>max</th>\n",
       "      <td>99787.000000</td>\n",
       "      <td>NaN</td>\n",
       "      <td>NaN</td>\n",
       "      <td>NaN</td>\n",
       "    </tr>\n",
       "  </tbody>\n",
       "</table>\n",
       "</div>"
      ],
      "text/plain": [
       "       HIOS Issuer ID  Drug Formulary URL  Premium Rates  Standard On Exchange\n",
       "count    50439.000000                 0.0            0.0                   0.0\n",
       "mean     52943.592002                 NaN            NaN                   NaN\n",
       "std      25372.432395                 NaN            NaN                   NaN\n",
       "min      10046.000000                 NaN            NaN                   NaN\n",
       "25%      30115.000000                 NaN            NaN                   NaN\n",
       "50%      50022.000000                 NaN            NaN                   NaN\n",
       "75%      75293.000000                 NaN            NaN                   NaN\n",
       "max      99787.000000                 NaN            NaN                   NaN"
      ]
     },
     "execution_count": 35,
     "metadata": {},
     "output_type": "execute_result"
    }
   ],
   "source": [
    "#Import the 2017 Healthcare Individual Market Dental data\n",
    "#sourced from    https://data.healthcare.gov/dataset/2017-QHP-Landscape-Individual-Market-Dental-Excel/f6am-7dvb\n",
    "\n",
    "import pandas as pd\n",
    "infile = '2017_QHP_Landscape_Individual_Market_Dental.csv'\n",
    "infilepath = csvDir + '\\\\'+ infile\n",
    "print(infilepath)\n",
    "\n",
    "#define a mapping dictionary for fields as needed\n",
    "#FIPS County Code - Was stripping leading zeros and coming in as a number, it is a zip code\n",
    "\n",
    "dtype_dict = {'FIPS County Code': str}\n",
    "df = pd.read_csv(infilepath,header ='infer',sep=',',dtype=dtype_dict)\n",
    "\n",
    "df.head(5)\n",
    "df.describe()\n",
    "#Note the output below shows the first few and last few columns and first few and last few rows\n",
    "#How to show all columns?"
   ]
  },
  {
   "cell_type": "markdown",
   "metadata": {},
   "source": [
    "## Business Understanding (10 points)\n",
    "#Describe the purpose of the data set you selected (i.e., why was this data collected in the ﬁrst place?). \n",
    "#Describe how you would deﬁne and measure the outcomes from the dataset. \n",
    "#That is, why is this data important and how do you know if you have mined useful knowledge from the dataset? \n",
    "#How would you measure the effectiveness of a good prediction algorithm? Be speciﬁc. "
   ]
  },
  {
   "cell_type": "markdown",
   "metadata": {
    "collapsed": true
   },
   "source": [
    "| Variable | Type | Definition |\n",
    "|:--------:|:----:|:----------:|\n",
    "| x | int | x coord |\n",
    "| y | int | y coord |\n"
   ]
  },
  {
   "cell_type": "markdown",
   "metadata": {},
   "source": [
    "## Data Understanding (80 points)"
   ]
  },
  {
   "cell_type": "markdown",
   "metadata": {},
   "source": [
    "#### 10 points - Describe data, outcome metrics,\n",
    "#1)Describe the purpose of the data set, why was the data collected.  Define outcome measures, what is important, \n",
    "#how do you know if you achieved the objective.  How to measure the effectiveness of a good prediction algorythm."
   ]
  },
  {
   "cell_type": "code",
   "execution_count": null,
   "metadata": {
    "collapsed": true
   },
   "outputs": [],
   "source": [
    "#### 15 points - Data Quality, Explain data cleansing steps, give justifications"
   ]
  },
  {
   "cell_type": "code",
   "execution_count": 3,
   "metadata": {
    "collapsed": false
   },
   "outputs": [
    {
     "data": {
      "text/plain": [
       "(<_io.TextIOWrapper name='downloadUSACounties.py' mode='r' encoding='utf-8'>,\n",
       " 'downloadUSACounties.py',\n",
       " ('.py', 'r', 1))"
      ]
     },
     "execution_count": 3,
     "metadata": {},
     "output_type": "execute_result"
    }
   ],
   "source": []
  },
  {
   "cell_type": "code",
   "execution_count": null,
   "metadata": {
    "collapsed": true
   },
   "outputs": [],
   "source": [
    "#### 10 points - Visualize appropriate statistics on a subset of the data, explain why the statistics are meaningful"
   ]
  },
  {
   "cell_type": "code",
   "execution_count": null,
   "metadata": {
    "collapsed": true
   },
   "outputs": [],
   "source": []
  },
  {
   "cell_type": "code",
   "execution_count": null,
   "metadata": {
    "collapsed": true
   },
   "outputs": [],
   "source": [
    "#### 15 points - Visualize 5 or more interesting attributes, interpret implications for each visualization, explain for each attribute, why the visualization is appropriate."
   ]
  },
  {
   "cell_type": "code",
   "execution_count": null,
   "metadata": {
    "collapsed": true
   },
   "outputs": [],
   "source": []
  },
  {
   "cell_type": "code",
   "execution_count": null,
   "metadata": {
    "collapsed": true
   },
   "outputs": [],
   "source": [
    "#### 15 points - Visualize relationships between attributes, ie scatter plots, correlation, cross=tabulation, groupwise avgs, etc.  Explain interesting relationships"
   ]
  },
  {
   "cell_type": "code",
   "execution_count": null,
   "metadata": {
    "collapsed": true
   },
   "outputs": [],
   "source": []
  },
  {
   "cell_type": "code",
   "execution_count": null,
   "metadata": {
    "collapsed": true
   },
   "outputs": [],
   "source": [
    "#### 10 points - Identify and explain interesting relationships between features and the class you are trying to predict"
   ]
  },
  {
   "cell_type": "code",
   "execution_count": null,
   "metadata": {
    "collapsed": true
   },
   "outputs": [],
   "source": []
  },
  {
   "cell_type": "code",
   "execution_count": null,
   "metadata": {
    "collapsed": true
   },
   "outputs": [],
   "source": [
    "#### 5 points - Are there other features that could be added to the data or created from existing features, explain."
   ]
  },
  {
   "cell_type": "code",
   "execution_count": null,
   "metadata": {
    "collapsed": true
   },
   "outputs": [],
   "source": []
  },
  {
   "cell_type": "markdown",
   "metadata": {},
   "source": [
    "## Exceptional Work (10 points)"
   ]
  },
  {
   "cell_type": "code",
   "execution_count": null,
   "metadata": {
    "collapsed": true
   },
   "outputs": [],
   "source": [
    "#### Free reign on additional analysis (since there are four of us we better do this!)\n",
    "#### Dimensional reduction, image processing, etc."
   ]
  },
  {
   "cell_type": "code",
   "execution_count": null,
   "metadata": {
    "collapsed": true
   },
   "outputs": [],
   "source": []
  }
 ],
 "metadata": {
  "anaconda-cloud": {},
  "kernelspec": {
   "display_name": "Python [default]",
   "language": "python",
   "name": "python3"
  },
  "language_info": {
   "codemirror_mode": {
    "name": "ipython",
    "version": 3
   },
   "file_extension": ".py",
   "mimetype": "text/x-python",
   "name": "python",
   "nbconvert_exporter": "python",
   "pygments_lexer": "ipython3",
   "version": "3.5.2"
  }
 },
 "nbformat": 4,
 "nbformat_minor": 2
}
