{
 "cells": [
  {
   "cell_type": "markdown",
   "metadata": {},
   "source": [
    "Allows multiple variables to display without using a print statement\n",
    "https://www.dataquest.io/blog/jupyter-notebook-tips-tricks-shortcuts/"
   ]
  },
  {
   "cell_type": "code",
   "execution_count": 1,
   "metadata": {
    "collapsed": true
   },
   "outputs": [],
   "source": [
    "#from IPython.core.interactiveshell import InteractiveShell\n",
    "#InteractiveShell.ast_node_interactivity = \"all\""
   ]
  },
  {
   "cell_type": "markdown",
   "metadata": {},
   "source": [
    "This lets the notebook user a wider part of your screen."
   ]
  },
  {
   "cell_type": "code",
   "execution_count": 2,
   "metadata": {
    "collapsed": false
   },
   "outputs": [
    {
     "data": {
      "text/html": [
       "<style>.container { width:75% !important; }</style>"
      ],
      "text/plain": [
       "<IPython.core.display.HTML object>"
      ]
     },
     "metadata": {},
     "output_type": "display_data"
    }
   ],
   "source": [
    "from IPython.core.display import display, HTML\n",
    "display(HTML(\"<style>.container { width:75% !important; }</style>\"))"
   ]
  },
  {
   "cell_type": "code",
   "execution_count": 3,
   "metadata": {
    "collapsed": false,
    "scrolled": true
   },
   "outputs": [
    {
     "name": "stdout",
     "output_type": "stream",
     "text": [
      "**Download and extraction complete.\n",
      "If their where no other messages, files already present.\n"
     ]
    }
   ],
   "source": [
    "#Downloads and unpack US Census County Data from census.gov\n",
    "import downloadUSACounties\n"
   ]
  },
  {
   "cell_type": "code",
   "execution_count": 4,
   "metadata": {
    "collapsed": false
   },
   "outputs": [
    {
     "name": "stdout",
     "output_type": "stream",
     "text": [
      "Index(['Item_Id', 'Item_Description', 'Unit_Indicator', 'Decimal_Indicator',\n",
      "       'US_Total', 'Source1', 'Source11'],\n",
      "      dtype='object')\n"
     ]
    }
   ],
   "source": [
    "#Creates Mongo database 'Census' and collection 'Mastdata' used to make Census data human-readable\n",
    "#added this line to see if I could make a branch work\n",
    "import loadMastdata"
   ]
  },
  {
   "cell_type": "code",
   "execution_count": 5,
   "metadata": {
    "collapsed": false
   },
   "outputs": [
    {
     "name": "stdout",
     "output_type": "stream",
     "text": [
      "Proj - C:\\Users\\cffar\\OneDrive\\Documents\\GitHub\\2017_MSDS_7331_DataMining\n",
      "C:\\Users\\cffar\\OneDrive\\Documents\\GitHub\\2017_MSDS_7331_DataMining\\Data\n"
     ]
    },
    {
     "data": {
      "text/plain": [
       "['2017_QHP_Landscape_Individual_Market_Dental.csv',\n",
       " '2017_QHP_Landscape_Individual_Market_Dental_cleanFieldnames.csv',\n",
       " 'Build Code to Clean input file.xlsx']"
      ]
     },
     "execution_count": 5,
     "metadata": {},
     "output_type": "execute_result"
    }
   ],
   "source": [
    "#Get path to Data directory with downloaded .csv files\n",
    "import os\n",
    "jupyterDir = os.path.realpath('../')\n",
    "print('Proj -', jupyterDir)\n",
    "csvDir = os.path.join(jupyterDir,'Data')\n",
    "print(csvDir)\n",
    "os.listdir(csvDir)"
   ]
  },
  {
   "cell_type": "code",
   "execution_count": 11,
   "metadata": {
    "collapsed": false
   },
   "outputs": [
    {
     "name": "stdout",
     "output_type": "stream",
     "text": [
      "C:\\Users\\cffar\\OneDrive\\Documents\\GitHub\\2017_MSDS_7331_DataMining\\Data\\2017_QHP_Landscape_Individual_Market_Dental.csv\n",
      "20\n",
      "state code type <class 'pandas.core.series.Series'>\n",
      "['State_Code', 'FIPS_County_Code', 'County_Name', 'Metal_Level', 'Issuer_Name', 'HIOS_Issuer_ID', 'Plan_ID_(Standard_Component)', 'Plan_Marketing_Name', 'Plan_Type', 'Rating_Area', 'Child_Only_Offering', 'Source', 'Customer_Service_Phone_Number_Local', 'Customer_Service_Phone_Number_Toll_Free', 'Customer_Service_Phone_Number_TTY', 'Network_URL', 'Plan_Brochure_URL', 'Summary_of_Benefits_URL', 'Drug_Formulary_URL', 'Routine_Dental_ServicesAdult_(Coverage)', 'Basic_Dental_CareAdult_(Coverage)', 'Major_Dental_CareAdult_(Coverage)', 'OrthodontiaAdult_(Coverage)', 'Dental_Check-Up_for_Children_(Coverage)', 'Basic_Dental_CareChild_(Coverage)', 'Major_Dental_CareChild_(Coverage)', 'OrthodontiaChild_(Coverage)', 'Premium_Rates', 'Premium_Child', 'Premium_Adult_Individual_Age_21', 'Premium_Adult_Individual_Age_27', 'Premium_Adult_Individual_Age_30_', 'Premium_Adult_Individual_Age_40_', 'Premium_Adult_Individual_Age_50_', 'Premium_Adult_Individual_Age_60_', 'Premium_Couple_21__', 'Premium_Couple_30_', 'Premium_Couple_40_', 'Premium_Couple_50_', 'Premium_Couple_60_', 'Couple_1_child_Age_21', 'Couple_1_child_Age_30_', 'Couple_1_child_Age_40_', 'Couple_1_child_Age_50_', 'Couple_2_children_Age_21', 'Couple_2_children_Age_30_', 'Couple_2_children_Age_40_', 'Couple_2_children_Age_50', 'Couple_3_or_more_Children_Age_21', 'Couple_3_or_more_Children_Age_30', 'Couple_3_or_more_Children_Age_40', 'Couple_3_or_more_Children_Age_50', 'Individual_1_child_Age_21', 'Individual_1_child_Age_30', 'Individual_1_child_Age_40', 'Individual_1_child_Age_50', 'Individual_2_children_Age_21', 'Individual_2_children_Age_30', 'Individual_2_children_Age_40', 'Individual_2_children_Age_50', 'Individual_3_or_more_children_Age_21', 'Individual_3_or_more_children_Age_30', 'Individual_3_or_more_children_Age_40', 'Individual_3_or_more_children_Age_50', 'Standard_On_Exchange', 'Dental_DeductibleIndividualStandard', 'Dental_DeductibleFamilyStandard', 'Dental_DeductibleFamily_(Per_Person)Standard', 'Dental_Maximum_Out_of_PocketIndividualStandard', 'Dental_Maximum_Out_of_PocketFamilyStandard', 'Dental_Maximum_Out_of_PocketFamily_(Per_Person)Standard', 'Routine_Dental_ServicesAdult', 'Basic_Dental_CareAdult', 'Major_Dental_CareAdult', 'OrthodontiaAdult', 'Dental_Check-Up_for_Children', 'Basic_Dental_CareChild', 'Major_Dental_CareChild', 'OrthodontiaChild']\n"
     ]
    },
    {
     "data": {
      "text/html": [
       "<pre>&lt;class 'pandas.core.frame.DataFrame'&gt;\n",
       "RangeIndex: 50 entries, 0 to 49\n",
       "Data columns (total 79 columns):\n",
       "State_Code                                                 50 non-null object\n",
       "FIPS_County_Code                                           50 non-null object\n",
       "County_Name                                                50 non-null object\n",
       "Metal_Level                                                50 non-null object\n",
       "Issuer_Name                                                50 non-null object\n",
       "HIOS_Issuer_ID                                             50 non-null int64\n",
       "Plan_ID_(Standard_Component)                               50 non-null object\n",
       "Plan_Marketing_Name                                        50 non-null object\n",
       "Plan_Type                                                  50 non-null object\n",
       "Rating_Area                                                50 non-null object\n",
       "Child_Only_Offering                                        50 non-null object\n",
       "Source                                                     50 non-null object\n",
       "Customer_Service_Phone_Number_Local                        50 non-null object\n",
       "Customer_Service_Phone_Number_Toll_Free                    50 non-null object\n",
       "Customer_Service_Phone_Number_TTY                          49 non-null object\n",
       "Network_URL                                                50 non-null object\n",
       "Plan_Brochure_URL                                          49 non-null object\n",
       "Summary_of_Benefits_URL                                    0 non-null float64\n",
       "Drug_Formulary_URL                                         0 non-null float64\n",
       "Routine_Dental_ServicesAdult_(Coverage)                    49 non-null object\n",
       "Basic_Dental_CareAdult_(Coverage)                          49 non-null object\n",
       "Major_Dental_CareAdult_(Coverage)                          49 non-null object\n",
       "OrthodontiaAdult_(Coverage)                                0 non-null float64\n",
       "Dental_Check-Up_for_Children_(Coverage)                    50 non-null object\n",
       "Basic_Dental_CareChild_(Coverage)                          50 non-null object\n",
       "Major_Dental_CareChild_(Coverage)                          50 non-null object\n",
       "OrthodontiaChild_(Coverage)                                50 non-null object\n",
       "Premium_Rates                                              0 non-null float64\n",
       "Premium_Child                                              50 non-null object\n",
       "Premium_Adult_Individual_Age_21                            49 non-null object\n",
       "Premium_Adult_Individual_Age_27                            49 non-null object\n",
       "Premium_Adult_Individual_Age_30_                           49 non-null object\n",
       "Premium_Adult_Individual_Age_40_                           49 non-null object\n",
       "Premium_Adult_Individual_Age_50_                           49 non-null object\n",
       "Premium_Adult_Individual_Age_60_                           49 non-null object\n",
       "Premium_Couple_21__                                        49 non-null object\n",
       "Premium_Couple_30_                                         49 non-null object\n",
       "Premium_Couple_40_                                         49 non-null object\n",
       "Premium_Couple_50_                                         49 non-null object\n",
       "Premium_Couple_60_                                         49 non-null object\n",
       "Couple_1_child_Age_21                                      49 non-null object\n",
       "Couple_1_child_Age_30_                                     49 non-null object\n",
       "Couple_1_child_Age_40_                                     49 non-null object\n",
       "Couple_1_child_Age_50_                                     49 non-null object\n",
       "Couple_2_children_Age_21                                   49 non-null object\n",
       "Couple_2_children_Age_30_                                  49 non-null object\n",
       "Couple_2_children_Age_40_                                  49 non-null object\n",
       "Couple_2_children_Age_50                                   49 non-null object\n",
       "Couple_3_or_more_Children_Age_21                           49 non-null object\n",
       "Couple_3_or_more_Children_Age_30                           49 non-null object\n",
       "Couple_3_or_more_Children_Age_40                           49 non-null object\n",
       "Couple_3_or_more_Children_Age_50                           49 non-null object\n",
       "Individual_1_child_Age_21                                  49 non-null object\n",
       "Individual_1_child_Age_30                                  49 non-null object\n",
       "Individual_1_child_Age_40                                  49 non-null object\n",
       "Individual_1_child_Age_50                                  49 non-null object\n",
       "Individual_2_children_Age_21                               49 non-null object\n",
       "Individual_2_children_Age_30                               49 non-null object\n",
       "Individual_2_children_Age_40                               49 non-null object\n",
       "Individual_2_children_Age_50                               49 non-null object\n",
       "Individual_3_or_more_children_Age_21                       49 non-null object\n",
       "Individual_3_or_more_children_Age_30                       49 non-null object\n",
       "Individual_3_or_more_children_Age_40                       49 non-null object\n",
       "Individual_3_or_more_children_Age_50                       49 non-null object\n",
       "Standard_On_Exchange                                       0 non-null float64\n",
       "Dental_DeductibleIndividualStandard                        50 non-null object\n",
       "Dental_DeductibleFamilyStandard                            50 non-null object\n",
       "Dental_DeductibleFamily_(Per_Person)Standard               50 non-null object\n",
       "Dental_Maximum_Out_of_PocketIndividualStandard             50 non-null object\n",
       "Dental_Maximum_Out_of_PocketFamilyStandard                 50 non-null object\n",
       "Dental_Maximum_Out_of_PocketFamily_(Per_Person)Standard    50 non-null object\n",
       "Routine_Dental_ServicesAdult                               50 non-null object\n",
       "Basic_Dental_CareAdult                                     50 non-null object\n",
       "Major_Dental_CareAdult                                     50 non-null object\n",
       "OrthodontiaAdult                                           50 non-null object\n",
       "Dental_Check-Up_for_Children                               50 non-null object\n",
       "Basic_Dental_CareChild                                     50 non-null object\n",
       "Major_Dental_CareChild                                     50 non-null object\n",
       "OrthodontiaChild                                           50 non-null object\n",
       "dtypes: float64(5), int64(1), object(73)\n",
       "memory usage: 30.9+ KB\n",
       "</pre>"
      ],
      "text/plain": [
       "<class 'pandas.core.frame.DataFrame'>\n",
       "RangeIndex: 50 entries, 0 to 49\n",
       "Data columns (total 79 columns):\n",
       "State_Code                                                 50 non-null object\n",
       "FIPS_County_Code                                           50 non-null object\n",
       "County_Name                                                50 non-null object\n",
       "Metal_Level                                                50 non-null object\n",
       "Issuer_Name                                                50 non-null object\n",
       "HIOS_Issuer_ID                                             50 non-null int64\n",
       "Plan_ID_(Standard_Component)                               50 non-null object\n",
       "Plan_Marketing_Name                                        50 non-null object\n",
       "Plan_Type                                                  50 non-null object\n",
       "Rating_Area                                                50 non-null object\n",
       "Child_Only_Offering                                        50 non-null object\n",
       "Source                                                     50 non-null object\n",
       "Customer_Service_Phone_Number_Local                        50 non-null object\n",
       "Customer_Service_Phone_Number_Toll_Free                    50 non-null object\n",
       "Customer_Service_Phone_Number_TTY                          49 non-null object\n",
       "Network_URL                                                50 non-null object\n",
       "Plan_Brochure_URL                                          49 non-null object\n",
       "Summary_of_Benefits_URL                                    0 non-null float64\n",
       "Drug_Formulary_URL                                         0 non-null float64\n",
       "Routine_Dental_ServicesAdult_(Coverage)                    49 non-null object\n",
       "Basic_Dental_CareAdult_(Coverage)                          49 non-null object\n",
       "Major_Dental_CareAdult_(Coverage)                          49 non-null object\n",
       "OrthodontiaAdult_(Coverage)                                0 non-null float64\n",
       "Dental_Check-Up_for_Children_(Coverage)                    50 non-null object\n",
       "Basic_Dental_CareChild_(Coverage)                          50 non-null object\n",
       "Major_Dental_CareChild_(Coverage)                          50 non-null object\n",
       "OrthodontiaChild_(Coverage)                                50 non-null object\n",
       "Premium_Rates                                              0 non-null float64\n",
       "Premium_Child                                              50 non-null object\n",
       "Premium_Adult_Individual_Age_21                            49 non-null object\n",
       "Premium_Adult_Individual_Age_27                            49 non-null object\n",
       "Premium_Adult_Individual_Age_30_                           49 non-null object\n",
       "Premium_Adult_Individual_Age_40_                           49 non-null object\n",
       "Premium_Adult_Individual_Age_50_                           49 non-null object\n",
       "Premium_Adult_Individual_Age_60_                           49 non-null object\n",
       "Premium_Couple_21__                                        49 non-null object\n",
       "Premium_Couple_30_                                         49 non-null object\n",
       "Premium_Couple_40_                                         49 non-null object\n",
       "Premium_Couple_50_                                         49 non-null object\n",
       "Premium_Couple_60_                                         49 non-null object\n",
       "Couple_1_child_Age_21                                      49 non-null object\n",
       "Couple_1_child_Age_30_                                     49 non-null object\n",
       "Couple_1_child_Age_40_                                     49 non-null object\n",
       "Couple_1_child_Age_50_                                     49 non-null object\n",
       "Couple_2_children_Age_21                                   49 non-null object\n",
       "Couple_2_children_Age_30_                                  49 non-null object\n",
       "Couple_2_children_Age_40_                                  49 non-null object\n",
       "Couple_2_children_Age_50                                   49 non-null object\n",
       "Couple_3_or_more_Children_Age_21                           49 non-null object\n",
       "Couple_3_or_more_Children_Age_30                           49 non-null object\n",
       "Couple_3_or_more_Children_Age_40                           49 non-null object\n",
       "Couple_3_or_more_Children_Age_50                           49 non-null object\n",
       "Individual_1_child_Age_21                                  49 non-null object\n",
       "Individual_1_child_Age_30                                  49 non-null object\n",
       "Individual_1_child_Age_40                                  49 non-null object\n",
       "Individual_1_child_Age_50                                  49 non-null object\n",
       "Individual_2_children_Age_21                               49 non-null object\n",
       "Individual_2_children_Age_30                               49 non-null object\n",
       "Individual_2_children_Age_40                               49 non-null object\n",
       "Individual_2_children_Age_50                               49 non-null object\n",
       "Individual_3_or_more_children_Age_21                       49 non-null object\n",
       "Individual_3_or_more_children_Age_30                       49 non-null object\n",
       "Individual_3_or_more_children_Age_40                       49 non-null object\n",
       "Individual_3_or_more_children_Age_50                       49 non-null object\n",
       "Standard_On_Exchange                                       0 non-null float64\n",
       "Dental_DeductibleIndividualStandard                        50 non-null object\n",
       "Dental_DeductibleFamilyStandard                            50 non-null object\n",
       "Dental_DeductibleFamily_(Per_Person)Standard               50 non-null object\n",
       "Dental_Maximum_Out_of_PocketIndividualStandard             50 non-null object\n",
       "Dental_Maximum_Out_of_PocketFamilyStandard                 50 non-null object\n",
       "Dental_Maximum_Out_of_PocketFamily_(Per_Person)Standard    50 non-null object\n",
       "Routine_Dental_ServicesAdult                               50 non-null object\n",
       "Basic_Dental_CareAdult                                     50 non-null object\n",
       "Major_Dental_CareAdult                                     50 non-null object\n",
       "OrthodontiaAdult                                           50 non-null object\n",
       "Dental_Check-Up_for_Children                               50 non-null object\n",
       "Basic_Dental_CareChild                                     50 non-null object\n",
       "Major_Dental_CareChild                                     50 non-null object\n",
       "OrthodontiaChild                                           50 non-null object\n",
       "dtypes: float64(5), int64(1), object(73)\n",
       "memory usage: 30.9+ KB"
      ]
     },
     "execution_count": 11,
     "metadata": {},
     "output_type": "execute_result"
    }
   ],
   "source": [
    "#Import the 2017 Healthcare Individual Market Dental data\n",
    "#sourced from    https://data.healthcare.gov/dataset/2017-QHP-Landscape-Individual-Market-Dental-Excel/f6am-7dvb\n",
    "\n",
    "import pandas as pd\n",
    "infile = '2017_QHP_Landscape_Individual_Market_Dental.csv'\n",
    "infilepath = csvDir + '\\\\'+ infile\n",
    "print(infilepath)\n",
    "\n",
    "print(pd.get_option('max_columns'))\n",
    "\n",
    "pd.set_option('max_columns',100)\n",
    "pd.set_option('expand_frame_repr', True)\n",
    "pd.set_option('large_repr','info')\n",
    "#define a mapping dictionary for fields as needed\n",
    "#FIPS County Code - Was stripping leading zeros and coming in as a number, it is a zip code\n",
    "\n",
    "dtype_dict = {'FIPS County Code': str,'State Code': str}\n",
    "df = pd.read_csv(infilepath,header ='infer',sep=',',dtype=dtype_dict,nrows=50)\n",
    "df.columns = [c.replace(' ','_') for c in df.columns]\n",
    "df.columns = [c.replace(',','') for c in df.columns]\n",
    "df.columns = [c.replace('_-_','') for c in df.columns]\n",
    "df.columns = [c.replace('+','_') for c in df.columns]\n",
    "\n",
    "df.columns\n",
    "print('state code type',type(df.State_Code))\n",
    "print(list(df))\n",
    "df.columns.tolist()\n",
    "#print(df)\n",
    "#print(df.dtypes)\n",
    "#print(df.head(5))\n",
    "df.describe()\n",
    "df\n",
    "#Note the output below shows the first few and last few columns and first few and last few rows\n",
    "#How to show all columns?"
   ]
  },
  {
   "cell_type": "code",
   "execution_count": 12,
   "metadata": {
    "collapsed": false
   },
   "outputs": [],
   "source": [
    "import decimal\n",
    "D = decimal.Decimal\n",
    "\n",
    "df[\"State_Code\"]=df[\"State_Code\"].astype(str)\n",
    "df[\"FIPS_County_Code\"]=df[\"FIPS_County_Code\"].astype(str)\n",
    "df[\"County_Name\"]=df[\"County_Name\"].astype(str)\n",
    "df[\"Metal_Level\"]=df[\"Metal_Level\"].astype(str)\n",
    "df[\"Issuer_Name\"]=df[\"Issuer_Name\"].astype(str)\n",
    "df[\"HIOS_Issuer_ID\"]=df[\"HIOS_Issuer_ID\"].astype(str)\n",
    "df[\"Plan_ID_(Standard_Component)\"]=df[\"Plan_ID_(Standard_Component)\"].astype(str)\n",
    "df[\"Plan_Marketing_Name\"]=df[\"Plan_Marketing_Name\"].astype(str)\n",
    "df[\"Plan_Type\"]=df[\"Plan_Type\"].astype(str)\n",
    "df[\"Rating_Area\"]=df[\"Rating_Area\"].astype(str)\n",
    "df[\"Child_Only_Offering\"]=df[\"Child_Only_Offering\"].astype(str)\n",
    "df[\"Source\"]=df[\"Source\"].astype(str)\n",
    "df[\"Customer_Service_Phone_Number_Local\"]=df[\"Customer_Service_Phone_Number_Local\"].astype(str)\n",
    "df[\"Customer_Service_Phone_Number_Toll_Free\"]=df[\"Customer_Service_Phone_Number_Toll_Free\"].astype(str)\n",
    "df[\"Customer_Service_Phone_Number_TTY\"]=df[\"Customer_Service_Phone_Number_TTY\"].astype(str)\n",
    "df[\"Network_URL\"]=df[\"Network_URL\"].astype(str)\n",
    "df[\"Plan_Brochure_URL\"]=df[\"Plan_Brochure_URL\"].astype(str)\n",
    "df[\"Summary_of_Benefits_URL\"]=df[\"Summary_of_Benefits_URL\"].astype(str)\n",
    "df[\"Drug_Formulary_URL\"]=df[\"Drug_Formulary_URL\"].astype(str)\n",
    "df[\"Routine_Dental_ServicesAdult_(Coverage)\"]=df[\"Routine_Dental_ServicesAdult_(Coverage)\"].astype(str)\n",
    "df[\"Basic_Dental_CareAdult_(Coverage)\"]=df[\"Basic_Dental_CareAdult_(Coverage)\"].astype(str)\n",
    "df[\"Major_Dental_CareAdult_(Coverage)\"]=df[\"Major_Dental_CareAdult_(Coverage)\"].astype(str)\n",
    "df[\"OrthodontiaAdult_(Coverage)\"]=df[\"OrthodontiaAdult_(Coverage)\"].astype(str)\n",
    "df[\"Dental_Check-Up_for_Children_(Coverage)\"]=df[\"Dental_Check-Up_for_Children_(Coverage)\"].astype(str)\n",
    "df[\"Basic_Dental_CareChild_(Coverage)\"]=df[\"Basic_Dental_CareChild_(Coverage)\"].astype(str)\n",
    "df[\"Major_Dental_CareChild_(Coverage)\"]=df[\"Major_Dental_CareChild_(Coverage)\"].astype(str)\n",
    "df[\"OrthodontiaChild_(Coverage)\"]=df[\"OrthodontiaChild_(Coverage)\"].astype(str)\n",
    "df[\"Premium_Rates\"]=df[\"Premium_Rates\"].replace( '[\\$,)]','', regex=True ).replace( '[(]','-', regex=True).astype(float)\n",
    "df[\"Premium_Child\"]=df[\"Premium_Child\"].replace( '[\\$,)]','', regex=True ).replace( '[(]','-', regex=True).astype(float)\n",
    "df[\"Premium_Adult_Individual_Age_21\"]=df[\"Premium_Adult_Individual_Age_21\"].replace( '[\\$,)]','', regex=True ).replace( '[(]','-', regex=True).astype(float)\n",
    "df[\"Premium_Adult_Individual_Age_27\"]=df[\"Premium_Adult_Individual_Age_27\"].replace( '[\\$,)]','', regex=True ).replace( '[(]','-', regex=True).astype(float)\n",
    "df[\"Premium_Adult_Individual_Age_30_\"]=df[\"Premium_Adult_Individual_Age_30_\"].replace( '[\\$,)]','', regex=True ).replace( '[(]','-', regex=True).astype(float)\n",
    "df[\"Premium_Adult_Individual_Age_40_\"]=df[\"Premium_Adult_Individual_Age_40_\"].replace( '[\\$,)]','', regex=True ).replace( '[(]','-', regex=True).astype(float)\n",
    "df[\"Premium_Adult_Individual_Age_50_\"]=df[\"Premium_Adult_Individual_Age_50_\"].replace( '[\\$,)]','', regex=True ).replace( '[(]','-', regex=True).astype(float)\n",
    "df[\"Premium_Adult_Individual_Age_60_\"]=df[\"Premium_Adult_Individual_Age_60_\"].replace( '[\\$,)]','', regex=True ).replace( '[(]','-', regex=True).astype(float)\n",
    "df[\"Premium_Couple_21__\"]=df[\"Premium_Couple_21__\"].replace( '[\\$,)]','', regex=True ).replace( '[(]','-', regex=True).astype(float)\n",
    "df[\"Premium_Couple_30_\"]=df[\"Premium_Couple_30_\"].replace( '[\\$,)]','', regex=True ).replace( '[(]','-', regex=True).astype(float)\n",
    "df[\"Premium_Couple_40_\"]=df[\"Premium_Couple_40_\"].replace( '[\\$,)]','', regex=True ).replace( '[(]','-', regex=True).astype(float)\n",
    "df[\"Premium_Couple_50_\"]=df[\"Premium_Couple_50_\"].replace( '[\\$,)]','', regex=True ).replace( '[(]','-', regex=True).astype(float)\n",
    "df[\"Premium_Couple_60_\"]=df[\"Premium_Couple_60_\"].replace( '[\\$,)]','', regex=True ).replace( '[(]','-', regex=True).astype(float)\n",
    "df[\"Couple_1_child_Age_21\"]=df[\"Couple_1_child_Age_21\"].replace( '[\\$,)]','', regex=True ).replace( '[(]','-', regex=True).astype(float)\n",
    "df[\"Couple_1_child_Age_30_\"]=df[\"Couple_1_child_Age_30_\"].replace( '[\\$,)]','', regex=True ).replace( '[(]','-', regex=True).astype(float)\n",
    "df[\"Couple_1_child_Age_40_\"]=df[\"Couple_1_child_Age_40_\"].replace( '[\\$,)]','', regex=True ).replace( '[(]','-', regex=True).astype(float)\n",
    "df[\"Couple_1_child_Age_50_\"]=df[\"Couple_1_child_Age_50_\"].replace( '[\\$,)]','', regex=True ).replace( '[(]','-', regex=True).astype(float)\n",
    "df[\"Couple_2_children_Age_21\"]=df[\"Couple_2_children_Age_21\"].replace( '[\\$,)]','', regex=True ).replace( '[(]','-', regex=True).astype(float)\n",
    "df[\"Couple_2_children_Age_30_\"]=df[\"Couple_2_children_Age_30_\"].replace( '[\\$,)]','', regex=True ).replace( '[(]','-', regex=True).astype(float)\n",
    "df[\"Couple_2_children_Age_40_\"]=df[\"Couple_2_children_Age_40_\"].replace( '[\\$,)]','', regex=True ).replace( '[(]','-', regex=True).astype(float)\n",
    "df[\"Couple_2_children_Age_50\"]=df[\"Couple_2_children_Age_50\"].replace( '[\\$,)]','', regex=True ).replace( '[(]','-', regex=True).astype(float)\n",
    "df[\"Couple_3_or_more_Children_Age_21\"]=df[\"Couple_3_or_more_Children_Age_21\"].replace( '[\\$,)]','', regex=True ).replace( '[(]','-', regex=True).astype(float)\n",
    "df[\"Couple_3_or_more_Children_Age_30\"]=df[\"Couple_3_or_more_Children_Age_30\"].replace( '[\\$,)]','', regex=True ).replace( '[(]','-', regex=True).astype(float)\n",
    "df[\"Couple_3_or_more_Children_Age_40\"]=df[\"Couple_3_or_more_Children_Age_40\"].replace( '[\\$,)]','', regex=True ).replace( '[(]','-', regex=True).astype(float)\n",
    "df[\"Couple_3_or_more_Children_Age_50\"]=df[\"Couple_3_or_more_Children_Age_50\"].replace( '[\\$,)]','', regex=True ).replace( '[(]','-', regex=True).astype(float)\n",
    "df[\"Individual_1_child_Age_21\"]=df[\"Individual_1_child_Age_21\"].replace( '[\\$,)]','', regex=True ).replace( '[(]','-', regex=True).astype(float)\n",
    "df[\"Individual_1_child_Age_30\"]=df[\"Individual_1_child_Age_30\"].replace( '[\\$,)]','', regex=True ).replace( '[(]','-', regex=True).astype(float)\n",
    "df[\"Individual_1_child_Age_40\"]=df[\"Individual_1_child_Age_40\"].replace( '[\\$,)]','', regex=True ).replace( '[(]','-', regex=True).astype(float)\n",
    "df[\"Individual_1_child_Age_50\"]=df[\"Individual_1_child_Age_50\"].replace( '[\\$,)]','', regex=True ).replace( '[(]','-', regex=True).astype(float)\n",
    "df[\"Individual_2_children_Age_21\"]=df[\"Individual_2_children_Age_21\"].replace( '[\\$,)]','', regex=True ).replace( '[(]','-', regex=True).astype(float)\n",
    "df[\"Individual_2_children_Age_30\"]=df[\"Individual_2_children_Age_30\"].replace( '[\\$,)]','', regex=True ).replace( '[(]','-', regex=True).astype(float)\n",
    "df[\"Individual_2_children_Age_40\"]=df[\"Individual_2_children_Age_40\"].replace( '[\\$,)]','', regex=True ).replace( '[(]','-', regex=True).astype(float)\n",
    "df[\"Individual_2_children_Age_50\"]=df[\"Individual_2_children_Age_50\"].replace( '[\\$,)]','', regex=True ).replace( '[(]','-', regex=True).astype(float)\n",
    "df[\"Individual_3_or_more_children_Age_21\"]=df[\"Individual_3_or_more_children_Age_21\"].replace( '[\\$,)]','', regex=True ).replace( '[(]','-', regex=True).astype(float)\n",
    "df[\"Individual_3_or_more_children_Age_30\"]=df[\"Individual_3_or_more_children_Age_30\"].replace( '[\\$,)]','', regex=True ).replace( '[(]','-', regex=True).astype(float)\n",
    "df[\"Individual_3_or_more_children_Age_40\"]=df[\"Individual_3_or_more_children_Age_40\"].replace( '[\\$,)]','', regex=True ).replace( '[(]','-', regex=True).astype(float)\n",
    "df[\"Individual_3_or_more_children_Age_50\"]=df[\"Individual_3_or_more_children_Age_50\"].replace( '[\\$,)]','', regex=True ).replace( '[(]','-', regex=True).astype(float)\n",
    "df[\"Standard_On_Exchange\"]=df[\"Standard_On_Exchange\"].astype(str)\n",
    "df[\"Dental_DeductibleIndividualStandard\"]=df[\"Dental_DeductibleIndividualStandard\"].replace('Not Applicable','NaN').replace('See Plan Brochure','NaN').replace( '[\\$,)]','', regex=True ).replace( '[(]','-', regex=True).astype(float)\n",
    "df[\"Dental_DeductibleFamilyStandard\"]=df[\"Dental_DeductibleFamilyStandard\"].replace('Not Applicable','NaN').replace('See Plan Brochure','NaN').replace( '[\\$,)]','', regex=True ).replace( '[(]','-', regex=True).astype(float)\n",
    "df[\"Dental_DeductibleFamily_(Per_Person)Standard\"]=df[\"Dental_DeductibleFamily_(Per_Person)Standard\"].replace('Not Applicable','NaN').replace('See Plan Brochure','NaN').replace( '[\\$,)]','', regex=True ).replace( '[(]','-', regex=True).astype(float)\n",
    "df[\"Dental_Maximum_Out_of_PocketIndividualStandard\"]=df[\"Dental_Maximum_Out_of_PocketIndividualStandard\"].replace('Not Applicable','NaN').replace('See Plan Brochure','NaN').replace( '[\\$,)]','', regex=True ).replace( '[(]','-', regex=True).astype(float)\n",
    "df[\"Dental_Maximum_Out_of_PocketFamilyStandard\"]=df[\"Dental_Maximum_Out_of_PocketFamilyStandard\"].replace('Not Applicable','NaN').replace('See Plan Brochure','NaN').replace( '[\\$,)]','', regex=True ).replace( '[(]','-', regex=True).astype(float)\n",
    "df[\"Dental_Maximum_Out_of_PocketFamily_(Per_Person)Standard\"]=df[\"Dental_Maximum_Out_of_PocketFamily_(Per_Person)Standard\"].replace('Not Applicable','NaN').replace('See Plan Brochure','NaN').replace( '[\\$,)]','', regex=True ).replace( '[(]','-', regex=True).astype(float)\n",
    "df[\"Routine_Dental_ServicesAdult\"]=df[\"Routine_Dental_ServicesAdult\"].astype(str)\n",
    "df[\"Basic_Dental_CareAdult\"]=df[\"Basic_Dental_CareAdult\"].astype(str)\n",
    "df[\"Major_Dental_CareAdult\"]=df[\"Major_Dental_CareAdult\"].astype(str)\n",
    "df[\"OrthodontiaAdult\"]=df[\"OrthodontiaAdult\"].astype(str)\n",
    "df[\"Dental_Check-Up_for_Children\"]=df[\"Dental_Check-Up_for_Children\"].astype(str)\n",
    "df[\"Basic_Dental_CareChild\"]=df[\"Basic_Dental_CareChild\"].astype(str)\n",
    "df[\"Major_Dental_CareChild\"]=df[\"Major_Dental_CareChild\"].astype(str)\n",
    "df[\"OrthodontiaChild\"]=df[\"OrthodontiaChild\"].astype(str)\n",
    "\n",
    "\n"
   ]
  },
  {
   "cell_type": "code",
   "execution_count": 13,
   "metadata": {
    "collapsed": false
   },
   "outputs": [
    {
     "data": {
      "text/plain": [
       "State_Code                                                  object\n",
       "FIPS_County_Code                                            object\n",
       "County_Name                                                 object\n",
       "Metal_Level                                                 object\n",
       "Issuer_Name                                                 object\n",
       "HIOS_Issuer_ID                                              object\n",
       "Plan_ID_(Standard_Component)                                object\n",
       "Plan_Marketing_Name                                         object\n",
       "Plan_Type                                                   object\n",
       "Rating_Area                                                 object\n",
       "Child_Only_Offering                                         object\n",
       "Source                                                      object\n",
       "Customer_Service_Phone_Number_Local                         object\n",
       "Customer_Service_Phone_Number_Toll_Free                     object\n",
       "Customer_Service_Phone_Number_TTY                           object\n",
       "Network_URL                                                 object\n",
       "Plan_Brochure_URL                                           object\n",
       "Summary_of_Benefits_URL                                     object\n",
       "Drug_Formulary_URL                                          object\n",
       "Routine_Dental_ServicesAdult_(Coverage)                     object\n",
       "Basic_Dental_CareAdult_(Coverage)                           object\n",
       "Major_Dental_CareAdult_(Coverage)                           object\n",
       "OrthodontiaAdult_(Coverage)                                 object\n",
       "Dental_Check-Up_for_Children_(Coverage)                     object\n",
       "Basic_Dental_CareChild_(Coverage)                           object\n",
       "Major_Dental_CareChild_(Coverage)                           object\n",
       "OrthodontiaChild_(Coverage)                                 object\n",
       "Premium_Rates                                              float64\n",
       "Premium_Child                                              float64\n",
       "Premium_Adult_Individual_Age_21                            float64\n",
       "                                                            ...   \n",
       "Couple_3_or_more_Children_Age_30                           float64\n",
       "Couple_3_or_more_Children_Age_40                           float64\n",
       "Couple_3_or_more_Children_Age_50                           float64\n",
       "Individual_1_child_Age_21                                  float64\n",
       "Individual_1_child_Age_30                                  float64\n",
       "Individual_1_child_Age_40                                  float64\n",
       "Individual_1_child_Age_50                                  float64\n",
       "Individual_2_children_Age_21                               float64\n",
       "Individual_2_children_Age_30                               float64\n",
       "Individual_2_children_Age_40                               float64\n",
       "Individual_2_children_Age_50                               float64\n",
       "Individual_3_or_more_children_Age_21                       float64\n",
       "Individual_3_or_more_children_Age_30                       float64\n",
       "Individual_3_or_more_children_Age_40                       float64\n",
       "Individual_3_or_more_children_Age_50                       float64\n",
       "Standard_On_Exchange                                        object\n",
       "Dental_DeductibleIndividualStandard                        float64\n",
       "Dental_DeductibleFamilyStandard                            float64\n",
       "Dental_DeductibleFamily_(Per_Person)Standard               float64\n",
       "Dental_Maximum_Out_of_PocketIndividualStandard             float64\n",
       "Dental_Maximum_Out_of_PocketFamilyStandard                 float64\n",
       "Dental_Maximum_Out_of_PocketFamily_(Per_Person)Standard    float64\n",
       "Routine_Dental_ServicesAdult                                object\n",
       "Basic_Dental_CareAdult                                      object\n",
       "Major_Dental_CareAdult                                      object\n",
       "OrthodontiaAdult                                            object\n",
       "Dental_Check-Up_for_Children                                object\n",
       "Basic_Dental_CareChild                                      object\n",
       "Major_Dental_CareChild                                      object\n",
       "OrthodontiaChild                                            object\n",
       "dtype: object"
      ]
     },
     "execution_count": 13,
     "metadata": {},
     "output_type": "execute_result"
    }
   ],
   "source": [
    "df.dtypes"
   ]
  },
  {
   "cell_type": "code",
   "execution_count": 14,
   "metadata": {
    "collapsed": true
   },
   "outputs": [],
   "source": [
    "# Got stuck on mapping, gave up for now"
   ]
  },
  {
   "cell_type": "code",
   "execution_count": 15,
   "metadata": {
    "collapsed": false
   },
   "outputs": [
    {
     "name": "stdout",
     "output_type": "stream",
     "text": [
      "Python version 3.5.2 |Anaconda 4.2.0 (64-bit)| (default, Jul  5 2016, 11:41:13) [MSC v.1900 64 bit (AMD64)]\n",
      "Pandas version 0.19.2\n",
      "Matplotlib version 2.0.0\n"
     ]
    }
   ],
   "source": [
    "import sys\n",
    "import matplotlib.pyplot as plt\n",
    "import pandas as pd\n",
    "import matplotlib\n",
    "\n",
    "print('Python version ' + sys.version)\n",
    "print('Pandas version ' + pd.__version__)\n",
    "print('Matplotlib version ' + matplotlib.__version__)"
   ]
  },
  {
   "cell_type": "code",
   "execution_count": 16,
   "metadata": {
    "collapsed": false
   },
   "outputs": [
    {
     "data": {
      "text/plain": [
       "{'AK': 'Alaska',\n",
       " 'AL': 'Alabama',\n",
       " 'AR': 'Arkansas',\n",
       " 'AS': 'American Samoa',\n",
       " 'AZ': 'Arizona',\n",
       " 'CA': 'California',\n",
       " 'CO': 'Colorado',\n",
       " 'CT': 'Connecticut',\n",
       " 'DC': 'District of Columbia',\n",
       " 'DE': 'Delaware',\n",
       " 'DK': 'Dakota',\n",
       " 'FL': 'Florida',\n",
       " 'GA': 'Georgia',\n",
       " 'GU': 'Guam',\n",
       " 'HI': 'Hawaii',\n",
       " 'IA': 'Iowa',\n",
       " 'ID': 'Idaho',\n",
       " 'IL': 'Illinois',\n",
       " 'IN': 'Indiana',\n",
       " 'KS': 'Kansas',\n",
       " 'KY': 'Kentucky',\n",
       " 'LA': 'Louisiana',\n",
       " 'MA': 'Massachusetts',\n",
       " 'MD': 'Maryland',\n",
       " 'ME': 'Maine',\n",
       " 'MI': 'Michigan',\n",
       " 'MN': 'Minnesota',\n",
       " 'MO': 'Missouri',\n",
       " 'MP': 'Northern Mariana Islands',\n",
       " 'MS': 'Mississippi',\n",
       " 'MT': 'Montana',\n",
       " 'NC': 'North Carolina',\n",
       " 'ND': 'North Dakota',\n",
       " 'NE': 'Nebraska',\n",
       " 'NH': 'New Hampshire',\n",
       " 'NJ': 'New Jersey',\n",
       " 'NM': 'New Mexico',\n",
       " 'NV': 'Nevada',\n",
       " 'NY': 'New York',\n",
       " 'OH': 'Ohio',\n",
       " 'OK': 'Oklahoma',\n",
       " 'OL': 'Orleans',\n",
       " 'OR': 'Oregon',\n",
       " 'PA': 'Pennsylvania',\n",
       " 'PI': 'Philippine Islands',\n",
       " 'PR': 'Puerto Rico',\n",
       " 'RI': 'Rhode Island',\n",
       " 'SC': 'South Carolina',\n",
       " 'SD': 'South Dakota',\n",
       " 'TN': 'Tennessee',\n",
       " 'TX': 'Texas',\n",
       " 'UT': 'Utah',\n",
       " 'VA': 'Virginia',\n",
       " 'VI': 'Virgin Islands',\n",
       " 'VT': 'Vermont',\n",
       " 'WA': 'Washington',\n",
       " 'WI': 'Wisconsin',\n",
       " 'WV': 'West Virginia',\n",
       " 'WY': 'Wyoming'}"
      ]
     },
     "execution_count": 16,
     "metadata": {},
     "output_type": "execute_result"
    }
   ],
   "source": [
    "#import statenames\n",
    "import us\n",
    "us.states.mapping('abbr','name')\n",
    "#How can we list all states and show the ones in our dataset"
   ]
  },
  {
   "cell_type": "code",
   "execution_count": 17,
   "metadata": {
    "collapsed": false,
    "scrolled": true
   },
   "outputs": [
    {
     "name": "stdout",
     "output_type": "stream",
     "text": [
      "Count of states = 2\n",
      "['AK', 'FL']\n"
     ]
    }
   ],
   "source": [
    "#List of states in the dataset\n",
    "statelist = list(set(df.State_Code))\n",
    "print('Count of states =', len(statelist))\n",
    "print(statelist)"
   ]
  },
  {
   "cell_type": "code",
   "execution_count": 1,
   "metadata": {
    "collapsed": false
   },
   "outputs": [
    {
     "ename": "ImportError",
     "evalue": "No module named 'mpl_toolkits.basemap'",
     "output_type": "error",
     "traceback": [
      "\u001b[0;31m---------------------------------------------------------------------------\u001b[0m",
      "\u001b[0;31mImportError\u001b[0m                               Traceback (most recent call last)",
      "\u001b[0;32m<ipython-input-1-78078958f1c1>\u001b[0m in \u001b[0;36m<module>\u001b[0;34m()\u001b[0m\n\u001b[1;32m      3\u001b[0m \u001b[1;33m\u001b[0m\u001b[0m\n\u001b[1;32m      4\u001b[0m \u001b[1;32mimport\u001b[0m \u001b[0mmatplotlib\u001b[0m\u001b[1;33m.\u001b[0m\u001b[0mpyplot\u001b[0m \u001b[1;32mas\u001b[0m \u001b[0mplt\u001b[0m\u001b[1;33m\u001b[0m\u001b[0m\n\u001b[0;32m----> 5\u001b[0;31m \u001b[1;32mfrom\u001b[0m \u001b[0mmpl_toolkits\u001b[0m\u001b[1;33m.\u001b[0m\u001b[0mbasemap\u001b[0m \u001b[1;32mimport\u001b[0m \u001b[0mBasemap\u001b[0m\u001b[1;33m\u001b[0m\u001b[0m\n\u001b[0m\u001b[1;32m      6\u001b[0m \u001b[1;32mfrom\u001b[0m \u001b[0mmatplotlib\u001b[0m\u001b[1;33m.\u001b[0m\u001b[0mpatches\u001b[0m \u001b[1;32mimport\u001b[0m \u001b[0mPolygon\u001b[0m\u001b[1;33m\u001b[0m\u001b[0m\n\u001b[1;32m      7\u001b[0m \u001b[1;33m\u001b[0m\u001b[0m\n",
      "\u001b[0;31mImportError\u001b[0m: No module named 'mpl_toolkits.basemap'"
     ]
    }
   ],
   "source": [
    "#conda install -c conda-forge basemap=1.0.8.dev0\n",
    "#conda install -c conda-forge basemap-data-hires      Need this for high resolution maps like county maps\n",
    "\n",
    "import matplotlib.pyplot as plt\n",
    "from mpl_toolkits.basemap import Basemap\n",
    "from matplotlib.patches import Polygon\n",
    "\n",
    "map = Basemap(llcrnrlon=-119,llcrnrlat=22,urcrnrlon=-64,urcrnrlat=49,\n",
    "        projection='lcc',lat_1=33,lat_2=45,lon_0=-95)\n",
    "# load the shapefile, use the name 'states'\n",
    "map.readshapefile('st99_d00', name='states', drawbounds=True)\n",
    "# collect the state names from the shapefile attributes so we can\n",
    "\n",
    "# look up the shape obect for a state by it's name\n",
    "state_names = []\n",
    "for shape_dict in map.states_info:\n",
    "    state_names.append(shape_dict['NAME'])\n",
    "\n",
    "ax = plt.gca() # get current axes instance\n",
    "\n",
    "# get Texas and draw the filled polygon   -  I can get it to work for one state, how do I convert state abbreviations to statenames and pass in a list of states?\n",
    "seg = map.states[state_names.index('Texas')]\n",
    "#seg = map.states[statelist]\n",
    "\n",
    "poly = Polygon(seg, facecolor='red',edgecolor='red')\n",
    "ax.add_patch(poly)\n",
    "\n",
    "plt.show()"
   ]
  },
  {
   "cell_type": "code",
   "execution_count": 14,
   "metadata": {
    "collapsed": false
   },
   "outputs": [
    {
     "ename": "ImportError",
     "evalue": "No module named 'matplotlib'",
     "output_type": "error",
     "traceback": [
      "\u001b[0;31m---------------------------------------------------------------------------\u001b[0m",
      "\u001b[0;31mImportError\u001b[0m                               Traceback (most recent call last)",
      "\u001b[0;32m<ipython-input-14-6f8973e7418a>\u001b[0m in \u001b[0;36m<module>\u001b[0;34m()\u001b[0m\n\u001b[1;32m      1\u001b[0m \u001b[1;31m#westlimit=-125.3; southlimit=24.6; eastlimit=-65.6; northlimit=49.7\u001b[0m\u001b[1;33m\u001b[0m\u001b[1;33m\u001b[0m\u001b[0m\n\u001b[1;32m      2\u001b[0m \u001b[1;33m\u001b[0m\u001b[0m\n\u001b[0;32m----> 3\u001b[0;31m \u001b[1;32mimport\u001b[0m \u001b[0mmatplotlib\u001b[0m\u001b[1;33m.\u001b[0m\u001b[0mpyplot\u001b[0m \u001b[1;32mas\u001b[0m \u001b[0mplt\u001b[0m\u001b[1;33m\u001b[0m\u001b[0m\n\u001b[0m\u001b[1;32m      4\u001b[0m \u001b[1;32mfrom\u001b[0m \u001b[0mmpl_toolkits\u001b[0m\u001b[1;33m.\u001b[0m\u001b[0mbasemap\u001b[0m \u001b[1;32mimport\u001b[0m \u001b[0mBasemap\u001b[0m\u001b[1;33m\u001b[0m\u001b[0m\n\u001b[1;32m      5\u001b[0m \u001b[1;33m\u001b[0m\u001b[0m\n",
      "\u001b[0;31mImportError\u001b[0m: No module named 'matplotlib'"
     ]
    }
   ],
   "source": [
    "#westlimit=-125.3; southlimit=24.6; eastlimit=-65.6; northlimit=49.7\n",
    "\n",
    "import matplotlib.pyplot as plt\n",
    "from mpl_toolkits.basemap import Basemap\n",
    "\n",
    "def draw_map_background(m, ax):\n",
    "# ax.set_axis_bgcolor('#729FCF')\n",
    "    ax.set_facecolor('#729FCF')\n",
    "    m.fillcontinents(color='#FAFAFA', ax=ax, zorder=0)\n",
    "    m.drawcounties(ax=ax)\n",
    "    m.drawstates(ax=ax)\n",
    "    m.drawcountries(ax=ax)\n",
    "    m.drawcoastlines(ax=ax)\n",
    "KM = 1000.\n",
    "# 750 zooms in but doesn't make the map larger not sure how to do that\n",
    "#KM = 750.  \n",
    "clat = 39.3\n",
    "clon = -94.7333\n",
    "wid = 5500 * KM\n",
    "hgt = 3500 * KM\n",
    "m = Basemap(width=wid, height=hgt, rsphere=(6378137.00,6356752.3142),\n",
    "            resolution='i', area_thresh=2500., projection='lcc',\n",
    "            lat_1=38.5, lat_2=38.5, lat_0=clat, lon_0=clon)\n",
    "fig = plt.figure()\n",
    "ax = fig.add_subplot(111)\n",
    "draw_map_background(m, ax)\n",
    "plt.show()"
   ]
  },
  {
   "cell_type": "code",
   "execution_count": 15,
   "metadata": {
    "collapsed": false
   },
   "outputs": [
    {
     "ename": "ImportError",
     "evalue": "No module named 'mpl_toolkits'",
     "output_type": "error",
     "traceback": [
      "\u001b[0;31m---------------------------------------------------------------------------\u001b[0m",
      "\u001b[0;31mImportError\u001b[0m                               Traceback (most recent call last)",
      "\u001b[0;32m<ipython-input-15-311305e34fc9>\u001b[0m in \u001b[0;36m<module>\u001b[0;34m()\u001b[0m\n\u001b[0;32m----> 1\u001b[0;31m \u001b[1;32mfrom\u001b[0m \u001b[0mmpl_toolkits\u001b[0m\u001b[1;33m.\u001b[0m\u001b[0mbasemap\u001b[0m \u001b[1;32mimport\u001b[0m \u001b[0mBasemap\u001b[0m\u001b[1;33m\u001b[0m\u001b[0m\n\u001b[0m\u001b[1;32m      2\u001b[0m \u001b[1;32mimport\u001b[0m \u001b[0mmatplotlib\u001b[0m\u001b[1;33m.\u001b[0m\u001b[0mpyplot\u001b[0m \u001b[1;32mas\u001b[0m \u001b[0mplt\u001b[0m\u001b[1;33m\u001b[0m\u001b[0m\n\u001b[1;32m      3\u001b[0m \u001b[1;31m#import matplotlib.cm\u001b[0m\u001b[1;33m\u001b[0m\u001b[1;33m\u001b[0m\u001b[0m\n\u001b[1;32m      4\u001b[0m \u001b[1;31m#from matplotlib.patches import Polygon\u001b[0m\u001b[1;33m\u001b[0m\u001b[1;33m\u001b[0m\u001b[0m\n\u001b[1;32m      5\u001b[0m \u001b[1;31m#from matplotlib.collections import PatchCollection\u001b[0m\u001b[1;33m\u001b[0m\u001b[1;33m\u001b[0m\u001b[0m\n",
      "\u001b[0;31mImportError\u001b[0m: No module named 'mpl_toolkits'"
     ]
    }
   ],
   "source": [
    "from mpl_toolkits.basemap import Basemap\n",
    "import matplotlib.pyplot as plt\n",
    "#import matplotlib.cm\n",
    "#from matplotlib.patches import Polygon\n",
    "#from matplotlib.collections import PatchCollection\n",
    "#from matplotlib.colors import Normalize\n",
    "\n",
    "plt.figure(figsize=(24,12))\n",
    "#= plt.subplots(figsize=(20,10))\n",
    "def draw_map_background(m, ax):\n",
    "    m = Basemap(resolution='i',projection='lcc',\n",
    "        llcrnrlon=-119,llcrnrlat=22,\n",
    "        urcrnrlon=-64,urcrnrlat=49,\n",
    "        lat_1=32,lat_2=45,lon_0=-95)\n",
    "#    m.drawmapboundary(fill_color='#46bcec')\n",
    "#    m.fillcontinents(color='#f2f2f2',lake_color='#46bcec')\n",
    "    m.readshapefile('st99_d00', name='states', drawbounds=True)\n",
    "#    m.drawcoastlines()\n",
    "    m.drawcounties()\n",
    "#    m.drawstates()\n",
    "    ax = fig.add_subplot(111)\n",
    "\n",
    "\n",
    "draw_map_background(m, ax)\n",
    "plt.title('US map showing states with federal ACA exchanges')\n",
    "\n",
    "plt.show()"
   ]
  },
  {
   "cell_type": "code",
   "execution_count": 16,
   "metadata": {
    "collapsed": false
   },
   "outputs": [
    {
     "ename": "NameError",
     "evalue": "name 'plt' is not defined",
     "output_type": "error",
     "traceback": [
      "\u001b[0;31m---------------------------------------------------------------------------\u001b[0m",
      "\u001b[0;31mNameError\u001b[0m                                 Traceback (most recent call last)",
      "\u001b[0;32m<ipython-input-16-07ddcf5e9017>\u001b[0m in \u001b[0;36m<module>\u001b[0;34m()\u001b[0m\n\u001b[0;32m----> 1\u001b[0;31m \u001b[0mprint\u001b[0m\u001b[1;33m(\u001b[0m\u001b[0mplt\u001b[0m\u001b[1;33m.\u001b[0m\u001b[0mtitle\u001b[0m\u001b[1;33m)\u001b[0m\u001b[1;33m\u001b[0m\u001b[0m\n\u001b[0m",
      "\u001b[0;31mNameError\u001b[0m: name 'plt' is not defined"
     ]
    }
   ],
   "source": [
    "print(plt.title)"
   ]
  },
  {
   "cell_type": "code",
   "execution_count": 17,
   "metadata": {
    "collapsed": false
   },
   "outputs": [
    {
     "ename": "ImportError",
     "evalue": "No module named 'numpy'",
     "output_type": "error",
     "traceback": [
      "\u001b[0;31m---------------------------------------------------------------------------\u001b[0m",
      "\u001b[0;31mImportError\u001b[0m                               Traceback (most recent call last)",
      "\u001b[0;32m<ipython-input-17-7b0376b95f99>\u001b[0m in \u001b[0;36m<module>\u001b[0;34m()\u001b[0m\n\u001b[1;32m      1\u001b[0m \u001b[1;31m#example here https://github.com/matplotlib/basemap/blob/master/examples/fillstates.py\u001b[0m\u001b[1;33m\u001b[0m\u001b[1;33m\u001b[0m\u001b[0m\n\u001b[0;32m----> 2\u001b[0;31m \u001b[1;32mimport\u001b[0m \u001b[0mnumpy\u001b[0m \u001b[1;32mas\u001b[0m \u001b[0mnp\u001b[0m\u001b[1;33m\u001b[0m\u001b[0m\n\u001b[0m\u001b[1;32m      3\u001b[0m \u001b[1;32mimport\u001b[0m \u001b[0mmatplotlib\u001b[0m\u001b[1;33m.\u001b[0m\u001b[0mpyplot\u001b[0m \u001b[1;32mas\u001b[0m \u001b[0mplt\u001b[0m\u001b[1;33m\u001b[0m\u001b[0m\n\u001b[1;32m      4\u001b[0m \u001b[1;32mfrom\u001b[0m \u001b[0mmpl_toolkits\u001b[0m\u001b[1;33m.\u001b[0m\u001b[0mbasemap\u001b[0m \u001b[1;32mimport\u001b[0m \u001b[0mBasemap\u001b[0m \u001b[1;32mas\u001b[0m \u001b[0mBasemap\u001b[0m\u001b[1;33m\u001b[0m\u001b[0m\n\u001b[1;32m      5\u001b[0m \u001b[1;32mfrom\u001b[0m \u001b[0mmatplotlib\u001b[0m\u001b[1;33m.\u001b[0m\u001b[0mcolors\u001b[0m \u001b[1;32mimport\u001b[0m \u001b[0mrgb2hex\u001b[0m\u001b[1;33m\u001b[0m\u001b[0m\n",
      "\u001b[0;31mImportError\u001b[0m: No module named 'numpy'"
     ]
    }
   ],
   "source": [
    "#example here https://github.com/matplotlib/basemap/blob/master/examples/fillstates.py\n",
    "import numpy as np\n",
    "import matplotlib.pyplot as plt\n",
    "from mpl_toolkits.basemap import Basemap as Basemap\n",
    "from matplotlib.colors import rgb2hex\n",
    "from matplotlib.patches import Polygon\n",
    "# Lambert Conformal map of lower 48 states.\n",
    "m = Basemap(llcrnrlon=-119,llcrnrlat=22,urcrnrlon=-64,urcrnrlat=49,\n",
    "        projection='lcc',lat_1=33,lat_2=45,lon_0=-95)\n",
    "\n",
    "# draw state boundaries.\n",
    "# data from U.S Census Bureau\n",
    "# http://www.census.gov/geo/www/cob/st2000.html\n",
    "shp_info = m.readshapefile('st99_d00','states',drawbounds=True)\n",
    "# population density by state from\n",
    "# http://en.wikipedia.org/wiki/List_of_U.S._states_by_population_density\n",
    "popdensity = {\n",
    "'New Jersey':  438.00,\n",
    "'Rhode Island':   387.35,\n",
    "'Massachusetts':   312.68,\n",
    "'Connecticut':    271.40,\n",
    "'Maryland':   209.23,\n",
    "'New York':    155.18,\n",
    "'Delaware':    154.87,\n",
    "'Florida':     114.43,\n",
    "'Ohio':  107.05,\n",
    "'Pennsylvania':  105.80,\n",
    "'Illinois':    86.27,\n",
    "'California':  83.85,\n",
    "'Hawaii':  72.83,\n",
    "'Virginia':    69.03,\n",
    "'Michigan':    67.55,\n",
    "'Indiana':    65.46,\n",
    "'North Carolina':  63.80,\n",
    "'Georgia':     54.59,\n",
    "'Tennessee':   53.29,\n",
    "'New Hampshire':   53.20,\n",
    "'South Carolina':  51.45,\n",
    "'Louisiana':   39.61,\n",
    "'Kentucky':   39.28,\n",
    "'Wisconsin':  38.13,\n",
    "'Washington':  34.20,\n",
    "'Alabama':     33.84,\n",
    "'Missouri':    31.36,\n",
    "'Texas':   30.75,\n",
    "'West Virginia':   29.00,\n",
    "'Vermont':     25.41,\n",
    "'Minnesota':  23.86,\n",
    "'Mississippi':   23.42,\n",
    "'Iowa':  20.22,\n",
    "'Arkansas':    19.82,\n",
    "'Oklahoma':    19.40,\n",
    "'Arizona':     17.43,\n",
    "'Colorado':    16.01,\n",
    "'Maine':  15.95,\n",
    "'Oregon':  13.76,\n",
    "'Kansas':  12.69,\n",
    "'Utah':  10.50,\n",
    "'Nebraska':    8.60,\n",
    "'Nevada':  7.03,\n",
    "'Idaho':   6.04,\n",
    "'New Mexico':  5.79,\n",
    "'South Dakota':  3.84,\n",
    "'North Dakota':  3.59,\n",
    "'Montana':     2.39,\n",
    "'Wyoming':      1.96,\n",
    "'Alaska':     0.42}\n",
    "# choose a color for each state based on population density.\n",
    "colors={}\n",
    "statenames=[]\n",
    "cmap = plt.cm.hot # use 'hot' colormap\n",
    "vmin = 0; vmax = 450 # set range.\n",
    "for shapedict in m.states_info:\n",
    "    statename = shapedict['NAME']\n",
    "    # skip DC and Puerto Rico.\n",
    "    if statename not in ['District of Columbia','Puerto Rico']:\n",
    "        pop = popdensity[statename]\n",
    "        # calling colormap with value between 0 and 1 returns\n",
    "        # rgba value.  Invert color range (hot colors are high\n",
    "        # population), take sqrt root to spread out colors more.\n",
    "        colors[statename] = cmap(1.-np.sqrt((pop-vmin)/(vmax-vmin)))[:3]\n",
    "    statenames.append(statename)\n",
    "# cycle through state names, color each one.\n",
    "ax = plt.gca() # get current axes instance\n",
    "for nshape,seg in enumerate(m.states):\n",
    "    # skip DC and Puerto Rico.\n",
    "    if statenames[nshape] not in ['District of Columbia','Puerto Rico']:\n",
    "        color = rgb2hex(colors[statenames[nshape]]) \n",
    "        poly = Polygon(seg,facecolor=color,edgecolor=color)\n",
    "        ax.add_patch(poly)\n",
    "plt.title('Filling State Polygons by Population Density')\n",
    "plt.show()"
   ]
  },
  {
   "cell_type": "code",
   "execution_count": null,
   "metadata": {
    "collapsed": false
   },
   "outputs": [],
   "source": [
    "\n"
   ]
  },
  {
   "cell_type": "markdown",
   "metadata": {},
   "source": [
    "## Business Understanding (10 points)\n",
    "#Describe the purpose of the data set you selected (i.e., why was this data collected in the ﬁrst place?). \n",
    "#Describe how you would deﬁne and measure the outcomes from the dataset. \n",
    "#That is, why is this data important and how do you know if you have mined useful knowledge from the dataset? \n",
    "#How would you measure the effectiveness of a good prediction algorithm? Be speciﬁc. "
   ]
  },
  {
   "cell_type": "markdown",
   "metadata": {
    "collapsed": true
   },
   "source": [
    "| Variable | Type | Definition |\n",
    "|:--------:|:----:|:----------:|\n",
    "| x | int | x coord |\n",
    "| y | int | y coord |\n"
   ]
  },
  {
   "cell_type": "markdown",
   "metadata": {},
   "source": [
    "## Data Understanding (80 points)"
   ]
  },
  {
   "cell_type": "markdown",
   "metadata": {},
   "source": [
    "#### 10 points - Describe data, outcome metrics,\n",
    "#1)Describe the purpose of the data set, why was the data collected.  Define outcome measures, what is important, \n",
    "#how do you know if you achieved the objective.  How to measure the effectiveness of a good prediction algorythm."
   ]
  },
  {
   "cell_type": "code",
   "execution_count": null,
   "metadata": {
    "collapsed": true
   },
   "outputs": [],
   "source": [
    "#### 15 points - Data Quality, Explain data cleansing steps, give justifications"
   ]
  },
  {
   "cell_type": "code",
   "execution_count": null,
   "metadata": {
    "collapsed": false
   },
   "outputs": [],
   "source": []
  },
  {
   "cell_type": "code",
   "execution_count": null,
   "metadata": {
    "collapsed": true
   },
   "outputs": [],
   "source": [
    "#### 10 points - Visualize appropriate statistics on a subset of the data, explain why the statistics are meaningful"
   ]
  },
  {
   "cell_type": "code",
   "execution_count": null,
   "metadata": {
    "collapsed": true
   },
   "outputs": [],
   "source": []
  },
  {
   "cell_type": "code",
   "execution_count": null,
   "metadata": {
    "collapsed": true
   },
   "outputs": [],
   "source": [
    "#### 15 points - Visualize 5 or more interesting attributes, interpret implications for each visualization, explain for each attribute, why the visualization is appropriate."
   ]
  },
  {
   "cell_type": "code",
   "execution_count": null,
   "metadata": {
    "collapsed": true
   },
   "outputs": [],
   "source": []
  },
  {
   "cell_type": "code",
   "execution_count": null,
   "metadata": {
    "collapsed": true
   },
   "outputs": [],
   "source": [
    "#### 15 points - Visualize relationships between attributes, ie scatter plots, correlation, cross=tabulation, groupwise avgs, etc.  Explain interesting relationships"
   ]
  },
  {
   "cell_type": "code",
   "execution_count": null,
   "metadata": {
    "collapsed": true
   },
   "outputs": [],
   "source": []
  },
  {
   "cell_type": "code",
   "execution_count": null,
   "metadata": {
    "collapsed": true
   },
   "outputs": [],
   "source": [
    "#### 10 points - Identify and explain interesting relationships between features and the class you are trying to predict"
   ]
  },
  {
   "cell_type": "code",
   "execution_count": null,
   "metadata": {
    "collapsed": true
   },
   "outputs": [],
   "source": []
  },
  {
   "cell_type": "code",
   "execution_count": null,
   "metadata": {
    "collapsed": true
   },
   "outputs": [],
   "source": [
    "#### 5 points - Are there other features that could be added to the data or created from existing features, explain."
   ]
  },
  {
   "cell_type": "code",
   "execution_count": null,
   "metadata": {
    "collapsed": true
   },
   "outputs": [],
   "source": []
  },
  {
   "cell_type": "markdown",
   "metadata": {},
   "source": [
    "## Exceptional Work (10 points)"
   ]
  },
  {
   "cell_type": "code",
   "execution_count": null,
   "metadata": {
    "collapsed": true
   },
   "outputs": [],
   "source": [
    "#### Free reign on additional analysis (since there are four of us we better do this!)\n",
    "#### Dimensional reduction, image processing, etc."
   ]
  },
  {
   "cell_type": "code",
   "execution_count": null,
   "metadata": {
    "collapsed": true
   },
   "outputs": [],
   "source": []
  }
 ],
 "metadata": {
  "anaconda-cloud": {},
  "kernelspec": {
   "display_name": "Python [conda root]",
   "language": "python",
   "name": "conda-root-py"
  },
  "language_info": {
   "codemirror_mode": {
    "name": "ipython",
    "version": 3
   },
   "file_extension": ".py",
   "mimetype": "text/x-python",
   "name": "python",
   "nbconvert_exporter": "python",
   "pygments_lexer": "ipython3",
   "version": "3.5.2"
  }
 },
 "nbformat": 4,
 "nbformat_minor": 2
}
